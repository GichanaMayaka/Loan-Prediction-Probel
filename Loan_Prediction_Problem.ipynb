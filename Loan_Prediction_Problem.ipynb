{
  "nbformat": 4,
  "nbformat_minor": 0,
  "metadata": {
    "colab": {
      "name": "Loan Prediction Problem.ipynb",
      "provenance": [],
      "collapsed_sections": []
    },
    "kernelspec": {
      "name": "python3",
      "display_name": "Python 3"
    }
  },
  "cells": [
    {
      "cell_type": "code",
      "metadata": {
        "colab": {
          "base_uri": "https://localhost:8080/"
        },
        "id": "UnPTP_mn0jM2",
        "outputId": "25d01788-31ef-4531-eb69-626dde2128e3"
      },
      "source": [
        "import pandas as pd\r\n",
        "import numpy as np\r\n",
        "import matplotlib.pyplot as plt\r\n",
        "import seaborn as sns\r\n",
        "\r\n",
        "import warnings\r\n",
        "\r\n",
        "\r\n",
        "from sklearn.preprocessing import LabelEncoder\r\n",
        "from sklearn.model_selection import train_test_split\r\n",
        "from sklearn.metrics import confusion_matrix\r\n",
        "from sklearn.metrics import classification_report\r\n",
        "from sklearn.metrics import accuracy_score\r\n",
        "\r\n",
        "\r\n",
        "# ML Models\r\n",
        "from xgboost import XGBClassifier\r\n",
        "from sklearn.tree import DecisionTreeClassifier\r\n",
        "from sklearn.ensemble import RandomForestClassifier\r\n",
        "from sklearn.linear_model import LogisticRegression\r\n",
        "\r\n",
        "\r\n",
        "# Default theme\r\n",
        "sns.set(context='notebook', style='darkgrid', palette='deep', font='sans-serif',\r\n",
        "font_scale=1, color_codes=False, rc=None)\r\n",
        "\r\n",
        "# Handling warnings\r\n",
        "warnings.filterwarnings('ignore')\r\n",
        "\r\n",
        "# Paths to datasets\r\n",
        "import os\r\n",
        "os.chdir('/content/drive/MyDrive/Machine Learning Notebooks/Datasets/loan prediction problem')\r\n",
        "print(os.getcwd())"
      ],
      "execution_count": 1,
      "outputs": [
        {
          "output_type": "stream",
          "text": [
            "/content/drive/MyDrive/Machine Learning Notebooks/Datasets/loan prediction problem\n"
          ],
          "name": "stdout"
        }
      ]
    },
    {
      "cell_type": "code",
      "metadata": {
        "colab": {
          "base_uri": "https://localhost:8080/",
          "height": 637
        },
        "id": "ljB0T4o523DE",
        "outputId": "abe451a5-5d94-4405-dc09-79ba0f6dbe04"
      },
      "source": [
        "# Loading of Data and SUmmary statistics\r\n",
        "train_df = pd.read_csv('loan pred train.csv')\r\n",
        "test_df = pd.read_csv('loan pred test.csv')\r\n",
        "\r\n",
        "#train_df.head(10)\r\n",
        "train_df.info(verbose=True, null_counts=True)\r\n",
        "train_df.describe()"
      ],
      "execution_count": 2,
      "outputs": [
        {
          "output_type": "stream",
          "text": [
            "<class 'pandas.core.frame.DataFrame'>\n",
            "RangeIndex: 614 entries, 0 to 613\n",
            "Data columns (total 13 columns):\n",
            " #   Column             Non-Null Count  Dtype  \n",
            "---  ------             --------------  -----  \n",
            " 0   Loan_ID            614 non-null    object \n",
            " 1   Gender             601 non-null    object \n",
            " 2   Married            611 non-null    object \n",
            " 3   Dependents         599 non-null    object \n",
            " 4   Education          614 non-null    object \n",
            " 5   Self_Employed      582 non-null    object \n",
            " 6   ApplicantIncome    614 non-null    int64  \n",
            " 7   CoapplicantIncome  614 non-null    float64\n",
            " 8   LoanAmount         592 non-null    float64\n",
            " 9   Loan_Amount_Term   600 non-null    float64\n",
            " 10  Credit_History     564 non-null    float64\n",
            " 11  Property_Area      614 non-null    object \n",
            " 12  Loan_Status        614 non-null    object \n",
            "dtypes: float64(4), int64(1), object(8)\n",
            "memory usage: 62.5+ KB\n"
          ],
          "name": "stdout"
        },
        {
          "output_type": "execute_result",
          "data": {
            "text/html": [
              "<div>\n",
              "<style scoped>\n",
              "    .dataframe tbody tr th:only-of-type {\n",
              "        vertical-align: middle;\n",
              "    }\n",
              "\n",
              "    .dataframe tbody tr th {\n",
              "        vertical-align: top;\n",
              "    }\n",
              "\n",
              "    .dataframe thead th {\n",
              "        text-align: right;\n",
              "    }\n",
              "</style>\n",
              "<table border=\"1\" class=\"dataframe\">\n",
              "  <thead>\n",
              "    <tr style=\"text-align: right;\">\n",
              "      <th></th>\n",
              "      <th>ApplicantIncome</th>\n",
              "      <th>CoapplicantIncome</th>\n",
              "      <th>LoanAmount</th>\n",
              "      <th>Loan_Amount_Term</th>\n",
              "      <th>Credit_History</th>\n",
              "    </tr>\n",
              "  </thead>\n",
              "  <tbody>\n",
              "    <tr>\n",
              "      <th>count</th>\n",
              "      <td>614.000000</td>\n",
              "      <td>614.000000</td>\n",
              "      <td>592.000000</td>\n",
              "      <td>600.00000</td>\n",
              "      <td>564.000000</td>\n",
              "    </tr>\n",
              "    <tr>\n",
              "      <th>mean</th>\n",
              "      <td>5403.459283</td>\n",
              "      <td>1621.245798</td>\n",
              "      <td>146.412162</td>\n",
              "      <td>342.00000</td>\n",
              "      <td>0.842199</td>\n",
              "    </tr>\n",
              "    <tr>\n",
              "      <th>std</th>\n",
              "      <td>6109.041673</td>\n",
              "      <td>2926.248369</td>\n",
              "      <td>85.587325</td>\n",
              "      <td>65.12041</td>\n",
              "      <td>0.364878</td>\n",
              "    </tr>\n",
              "    <tr>\n",
              "      <th>min</th>\n",
              "      <td>150.000000</td>\n",
              "      <td>0.000000</td>\n",
              "      <td>9.000000</td>\n",
              "      <td>12.00000</td>\n",
              "      <td>0.000000</td>\n",
              "    </tr>\n",
              "    <tr>\n",
              "      <th>25%</th>\n",
              "      <td>2877.500000</td>\n",
              "      <td>0.000000</td>\n",
              "      <td>100.000000</td>\n",
              "      <td>360.00000</td>\n",
              "      <td>1.000000</td>\n",
              "    </tr>\n",
              "    <tr>\n",
              "      <th>50%</th>\n",
              "      <td>3812.500000</td>\n",
              "      <td>1188.500000</td>\n",
              "      <td>128.000000</td>\n",
              "      <td>360.00000</td>\n",
              "      <td>1.000000</td>\n",
              "    </tr>\n",
              "    <tr>\n",
              "      <th>75%</th>\n",
              "      <td>5795.000000</td>\n",
              "      <td>2297.250000</td>\n",
              "      <td>168.000000</td>\n",
              "      <td>360.00000</td>\n",
              "      <td>1.000000</td>\n",
              "    </tr>\n",
              "    <tr>\n",
              "      <th>max</th>\n",
              "      <td>81000.000000</td>\n",
              "      <td>41667.000000</td>\n",
              "      <td>700.000000</td>\n",
              "      <td>480.00000</td>\n",
              "      <td>1.000000</td>\n",
              "    </tr>\n",
              "  </tbody>\n",
              "</table>\n",
              "</div>"
            ],
            "text/plain": [
              "       ApplicantIncome  CoapplicantIncome  ...  Loan_Amount_Term  Credit_History\n",
              "count       614.000000         614.000000  ...         600.00000      564.000000\n",
              "mean       5403.459283        1621.245798  ...         342.00000        0.842199\n",
              "std        6109.041673        2926.248369  ...          65.12041        0.364878\n",
              "min         150.000000           0.000000  ...          12.00000        0.000000\n",
              "25%        2877.500000           0.000000  ...         360.00000        1.000000\n",
              "50%        3812.500000        1188.500000  ...         360.00000        1.000000\n",
              "75%        5795.000000        2297.250000  ...         360.00000        1.000000\n",
              "max       81000.000000       41667.000000  ...         480.00000        1.000000\n",
              "\n",
              "[8 rows x 5 columns]"
            ]
          },
          "metadata": {
            "tags": []
          },
          "execution_count": 2
        }
      ]
    },
    {
      "cell_type": "code",
      "metadata": {
        "colab": {
          "base_uri": "https://localhost:8080/",
          "height": 351
        },
        "id": "D1L9B83lPvJQ",
        "outputId": "e9dcefdc-0439-4723-ca28-540b4583a5b3"
      },
      "source": [
        "train_df.head(8)"
      ],
      "execution_count": 3,
      "outputs": [
        {
          "output_type": "execute_result",
          "data": {
            "text/html": [
              "<div>\n",
              "<style scoped>\n",
              "    .dataframe tbody tr th:only-of-type {\n",
              "        vertical-align: middle;\n",
              "    }\n",
              "\n",
              "    .dataframe tbody tr th {\n",
              "        vertical-align: top;\n",
              "    }\n",
              "\n",
              "    .dataframe thead th {\n",
              "        text-align: right;\n",
              "    }\n",
              "</style>\n",
              "<table border=\"1\" class=\"dataframe\">\n",
              "  <thead>\n",
              "    <tr style=\"text-align: right;\">\n",
              "      <th></th>\n",
              "      <th>Loan_ID</th>\n",
              "      <th>Gender</th>\n",
              "      <th>Married</th>\n",
              "      <th>Dependents</th>\n",
              "      <th>Education</th>\n",
              "      <th>Self_Employed</th>\n",
              "      <th>ApplicantIncome</th>\n",
              "      <th>CoapplicantIncome</th>\n",
              "      <th>LoanAmount</th>\n",
              "      <th>Loan_Amount_Term</th>\n",
              "      <th>Credit_History</th>\n",
              "      <th>Property_Area</th>\n",
              "      <th>Loan_Status</th>\n",
              "    </tr>\n",
              "  </thead>\n",
              "  <tbody>\n",
              "    <tr>\n",
              "      <th>0</th>\n",
              "      <td>LP001002</td>\n",
              "      <td>Male</td>\n",
              "      <td>No</td>\n",
              "      <td>0</td>\n",
              "      <td>Graduate</td>\n",
              "      <td>No</td>\n",
              "      <td>5849</td>\n",
              "      <td>0.0</td>\n",
              "      <td>NaN</td>\n",
              "      <td>360.0</td>\n",
              "      <td>1.0</td>\n",
              "      <td>Urban</td>\n",
              "      <td>Y</td>\n",
              "    </tr>\n",
              "    <tr>\n",
              "      <th>1</th>\n",
              "      <td>LP001003</td>\n",
              "      <td>Male</td>\n",
              "      <td>Yes</td>\n",
              "      <td>1</td>\n",
              "      <td>Graduate</td>\n",
              "      <td>No</td>\n",
              "      <td>4583</td>\n",
              "      <td>1508.0</td>\n",
              "      <td>128.0</td>\n",
              "      <td>360.0</td>\n",
              "      <td>1.0</td>\n",
              "      <td>Rural</td>\n",
              "      <td>N</td>\n",
              "    </tr>\n",
              "    <tr>\n",
              "      <th>2</th>\n",
              "      <td>LP001005</td>\n",
              "      <td>Male</td>\n",
              "      <td>Yes</td>\n",
              "      <td>0</td>\n",
              "      <td>Graduate</td>\n",
              "      <td>Yes</td>\n",
              "      <td>3000</td>\n",
              "      <td>0.0</td>\n",
              "      <td>66.0</td>\n",
              "      <td>360.0</td>\n",
              "      <td>1.0</td>\n",
              "      <td>Urban</td>\n",
              "      <td>Y</td>\n",
              "    </tr>\n",
              "    <tr>\n",
              "      <th>3</th>\n",
              "      <td>LP001006</td>\n",
              "      <td>Male</td>\n",
              "      <td>Yes</td>\n",
              "      <td>0</td>\n",
              "      <td>Not Graduate</td>\n",
              "      <td>No</td>\n",
              "      <td>2583</td>\n",
              "      <td>2358.0</td>\n",
              "      <td>120.0</td>\n",
              "      <td>360.0</td>\n",
              "      <td>1.0</td>\n",
              "      <td>Urban</td>\n",
              "      <td>Y</td>\n",
              "    </tr>\n",
              "    <tr>\n",
              "      <th>4</th>\n",
              "      <td>LP001008</td>\n",
              "      <td>Male</td>\n",
              "      <td>No</td>\n",
              "      <td>0</td>\n",
              "      <td>Graduate</td>\n",
              "      <td>No</td>\n",
              "      <td>6000</td>\n",
              "      <td>0.0</td>\n",
              "      <td>141.0</td>\n",
              "      <td>360.0</td>\n",
              "      <td>1.0</td>\n",
              "      <td>Urban</td>\n",
              "      <td>Y</td>\n",
              "    </tr>\n",
              "    <tr>\n",
              "      <th>5</th>\n",
              "      <td>LP001011</td>\n",
              "      <td>Male</td>\n",
              "      <td>Yes</td>\n",
              "      <td>2</td>\n",
              "      <td>Graduate</td>\n",
              "      <td>Yes</td>\n",
              "      <td>5417</td>\n",
              "      <td>4196.0</td>\n",
              "      <td>267.0</td>\n",
              "      <td>360.0</td>\n",
              "      <td>1.0</td>\n",
              "      <td>Urban</td>\n",
              "      <td>Y</td>\n",
              "    </tr>\n",
              "    <tr>\n",
              "      <th>6</th>\n",
              "      <td>LP001013</td>\n",
              "      <td>Male</td>\n",
              "      <td>Yes</td>\n",
              "      <td>0</td>\n",
              "      <td>Not Graduate</td>\n",
              "      <td>No</td>\n",
              "      <td>2333</td>\n",
              "      <td>1516.0</td>\n",
              "      <td>95.0</td>\n",
              "      <td>360.0</td>\n",
              "      <td>1.0</td>\n",
              "      <td>Urban</td>\n",
              "      <td>Y</td>\n",
              "    </tr>\n",
              "    <tr>\n",
              "      <th>7</th>\n",
              "      <td>LP001014</td>\n",
              "      <td>Male</td>\n",
              "      <td>Yes</td>\n",
              "      <td>3+</td>\n",
              "      <td>Graduate</td>\n",
              "      <td>No</td>\n",
              "      <td>3036</td>\n",
              "      <td>2504.0</td>\n",
              "      <td>158.0</td>\n",
              "      <td>360.0</td>\n",
              "      <td>0.0</td>\n",
              "      <td>Semiurban</td>\n",
              "      <td>N</td>\n",
              "    </tr>\n",
              "  </tbody>\n",
              "</table>\n",
              "</div>"
            ],
            "text/plain": [
              "    Loan_ID Gender Married  ... Credit_History Property_Area Loan_Status\n",
              "0  LP001002   Male      No  ...            1.0         Urban           Y\n",
              "1  LP001003   Male     Yes  ...            1.0         Rural           N\n",
              "2  LP001005   Male     Yes  ...            1.0         Urban           Y\n",
              "3  LP001006   Male     Yes  ...            1.0         Urban           Y\n",
              "4  LP001008   Male      No  ...            1.0         Urban           Y\n",
              "5  LP001011   Male     Yes  ...            1.0         Urban           Y\n",
              "6  LP001013   Male     Yes  ...            1.0         Urban           Y\n",
              "7  LP001014   Male     Yes  ...            0.0     Semiurban           N\n",
              "\n",
              "[8 rows x 13 columns]"
            ]
          },
          "metadata": {
            "tags": []
          },
          "execution_count": 3
        }
      ]
    },
    {
      "cell_type": "code",
      "metadata": {
        "id": "giugKoSKFCiL"
      },
      "source": [
        "# ID Column is not needed, so we drop it\r\n",
        "train_df.drop('Loan_ID', axis=1, inplace=True)\r\n",
        "test_df.drop('Loan_ID', axis=1, inplace=True)\r\n",
        "\r\n",
        "train_df.Dependents.replace('3+', 3, inplace=True)\r\n",
        "test_df.Dependents.replace('3+', 3, inplace=True)"
      ],
      "execution_count": 3,
      "outputs": []
    },
    {
      "cell_type": "code",
      "metadata": {
        "colab": {
          "base_uri": "https://localhost:8080/"
        },
        "id": "VYOQ1Jkl5CNn",
        "outputId": "76076420-bdac-4476-d354-302a0a116758"
      },
      "source": [
        "# Checking missing values in descending order\r\n",
        "\r\n",
        "null_cols = train_df.isnull().sum().sort_values(ascending=False).index.to_list()\r\n",
        "print(null_cols)"
      ],
      "execution_count": 4,
      "outputs": [
        {
          "output_type": "stream",
          "text": [
            "['Credit_History', 'Self_Employed', 'LoanAmount', 'Dependents', 'Loan_Amount_Term', 'Gender', 'Married', 'Loan_Status', 'Property_Area', 'CoapplicantIncome', 'ApplicantIncome', 'Education']\n"
          ],
          "name": "stdout"
        }
      ]
    },
    {
      "cell_type": "code",
      "metadata": {
        "colab": {
          "base_uri": "https://localhost:8080/"
        },
        "id": "qpyCD2Rm5wCX",
        "outputId": "ab1f2682-9a43-4e93-f55f-233fb8480bc2"
      },
      "source": [
        "# We will replace null values with the mode of the null columns\r\n",
        "\r\n",
        "for col in null_cols:\r\n",
        "    # print(f'{col}:\\n{train_df[col].value_counts()}\\n', '-'*50)\r\n",
        "    train_df[col] = train_df[col].fillna(train_df[col].mode().values[0])\r\n",
        "\r\n",
        "train_df.isnull().sum().sort_values(ascending=False)"
      ],
      "execution_count": 5,
      "outputs": [
        {
          "output_type": "execute_result",
          "data": {
            "text/plain": [
              "Loan_Status          0\n",
              "Property_Area        0\n",
              "Credit_History       0\n",
              "Loan_Amount_Term     0\n",
              "LoanAmount           0\n",
              "CoapplicantIncome    0\n",
              "ApplicantIncome      0\n",
              "Self_Employed        0\n",
              "Education            0\n",
              "Dependents           0\n",
              "Married              0\n",
              "Gender               0\n",
              "dtype: int64"
            ]
          },
          "metadata": {
            "tags": []
          },
          "execution_count": 5
        }
      ]
    },
    {
      "cell_type": "markdown",
      "metadata": {
        "id": "Mdhfq4VP7_yo"
      },
      "source": [
        "**Data Visualisation**"
      ]
    },
    {
      "cell_type": "markdown",
      "metadata": {
        "id": "S4EgSZh98JAm"
      },
      "source": [
        "We first split our data to categorical and numerical data"
      ]
    },
    {
      "cell_type": "code",
      "metadata": {
        "id": "p0iyPhNS7_Ej"
      },
      "source": [
        "# List of all numeric and categorical columns \r\n",
        "\r\n",
        "nums = train_df.select_dtypes('number').columns.to_list()\r\n",
        "cats = train_df.select_dtypes('object').columns.to_list()\r\n",
        "\r\n",
        "loan_nums = train_df[nums]\r\n",
        "loan_cats = train_df[cats]"
      ],
      "execution_count": 6,
      "outputs": []
    },
    {
      "cell_type": "code",
      "metadata": {
        "colab": {
          "base_uri": "https://localhost:8080/",
          "height": 662
        },
        "id": "t3dAFp259w_r",
        "outputId": "605dd5a1-45ad-4aa4-a639-e2155b6e547d"
      },
      "source": [
        "# Check distribution of loan_status column and visualise\r\n",
        "print(train_df[cats[-1]].value_counts())\r\n",
        "\r\n",
        "total = float(len(train_df[cats[-1]]))\r\n",
        "plt.figure(figsize=(8, 10))\r\n",
        "sns.set(style='whitegrid')\r\n",
        "ax = sns.countplot(train_df[cats[-1]]) # Plot a barplot of the number of values of each category\r\n",
        "\r\n",
        "for p in ax.patches:\r\n",
        "    # Adding the percentage values on the barplots\r\n",
        "    height = p.get_height()\r\n",
        "    ax.text(p.get_x() + p.get_width()/2, height + 3, '{:1.2f}'.format(height/total, ha = 'center'))\r\n",
        "plt.show() # Plot of loan_status categorical column"
      ],
      "execution_count": 10,
      "outputs": [
        {
          "output_type": "stream",
          "text": [
            "Y    422\n",
            "N    192\n",
            "Name: Loan_Status, dtype: int64\n"
          ],
          "name": "stdout"
        },
        {
          "output_type": "display_data",
          "data": {
            "image/png": "[encoded data removed]",
            "text/plain": [
              "<Figure size 576x720 with 1 Axes>"
            ]
          },
          "metadata": {
            "tags": [],
            "needs_background": "light"
          }
        }
      ]
    },
    {
      "cell_type": "code",
      "metadata": {
        "colab": {
          "base_uri": "https://localhost:8080/",
          "height": 1000
        },
        "id": "XKBw3zEyDiBR",
        "outputId": "054a1be0-bddc-48d0-c954-4a6c0cdee563"
      },
      "source": [
        "for i in loan_nums:\r\n",
        "    plt.hist(loan_nums[i])\r\n",
        "    plt.title(i)\r\n",
        "    plt.show()"
      ],
      "execution_count": null,
      "outputs": [
        {
          "output_type": "display_data",
          "data": {
            "image/png": "[encoded data removed]",
            "text/plain": [
              "<Figure size 432x288 with 1 Axes>"
            ]
          },
          "metadata": {
            "tags": []
          }
        },
        {
          "output_type": "display_data",
          "data": {
            "image/png": "[encoded data removed]",
            "text/plain": [
              "<Figure size 432x288 with 1 Axes>"
            ]
          },
          "metadata": {
            "tags": []
          }
        },
        {
          "output_type": "display_data",
          "data": {
            "image/png": "[encoded data removed]",
            "text/plain": [
              "<Figure size 432x288 with 1 Axes>"
            ]
          },
          "metadata": {
            "tags": []
          }
        },
        {
          "output_type": "display_data",
          "data": {
            "image/png": "[encoded data removed]",
            "text/plain": [
              "<Figure size 432x288 with 1 Axes>"
            ]
          },
          "metadata": {
            "tags": []
          }
        },
        {
          "output_type": "display_data",
          "data": {
            "image/png": "[encoded data removed]",
            "text/plain": [
              "<Figure size 432x288 with 1 Axes>"
            ]
          },
          "metadata": {
            "tags": []
          }
        }
      ]
    },
    {
      "cell_type": "code",
      "metadata": {
        "colab": {
          "base_uri": "https://localhost:8080/",
          "height": 1000
        },
        "id": "gni8YjpZECgY",
        "outputId": "ffb151c4-385c-49f2-b6bb-3bef4d6ab766"
      },
      "source": [
        "# Distribution of the categorical classes according the loan status\r\n",
        "\r\n",
        "for i in cats[:-1]:\r\n",
        "    plt.figure(figsize=(15,10))\r\n",
        "    plt.subplot(2, 3, 1)\r\n",
        "    sns.countplot(x = i, hue='Loan_Status',data=train_df, palette='plasma')\r\n",
        "    plt.xlabel(i, fontsize=14)"
      ],
      "execution_count": null,
      "outputs": [
        {
          "output_type": "display_data",
          "data": {
            "image/png": "[encoded data removed]",
            "text/plain": [
              "<Figure size 1080x720 with 1 Axes>"
            ]
          },
          "metadata": {
            "tags": []
          }
        },
        {
          "output_type": "display_data",
          "data": {
            "image/png": "[encoded data removed]",
            "text/plain": [
              "<Figure size 1080x720 with 1 Axes>"
            ]
          },
          "metadata": {
            "tags": []
          }
        },
        {
          "output_type": "display_data",
          "data": {
            "image/png": "[encoded data removed]",
            "text/plain": [
              "<Figure size 1080x720 with 1 Axes>"
            ]
          },
          "metadata": {
            "tags": []
          }
        },
        {
          "output_type": "display_data",
          "data": {
            "image/png": "[encoded data removed]",
            "text/plain": [
              "<Figure size 1080x720 with 1 Axes>"
            ]
          },
          "metadata": {
            "tags": []
          }
        },
        {
          "output_type": "display_data",
          "data": {
            "image/png": "[encoded data removed]",
            "text/plain": [
              "<Figure size 1080x720 with 1 Axes>"
            ]
          },
          "metadata": {
            "tags": []
          }
        },
        {
          "output_type": "display_data",
          "data": {
            "image/png": "[encoded data removed]",
            "text/plain": [
              "<Figure size 1080x720 with 1 Axes>"
            ]
          },
          "metadata": {
            "tags": []
          }
        }
      ]
    },
    {
      "cell_type": "markdown",
      "metadata": {
        "id": "cC209lxYL0sh"
      },
      "source": [
        "Encoding Cateogircal Data to Numeric Values"
      ]
    },
    {
      "cell_type": "code",
      "metadata": {
        "colab": {
          "base_uri": "https://localhost:8080/"
        },
        "id": "-8GjYhDDVddL",
        "outputId": "777b29ec-f9c5-4a31-ad28-41e9a115a104"
      },
      "source": [
        "train_df[cats].shape"
      ],
      "execution_count": 11,
      "outputs": [
        {
          "output_type": "execute_result",
          "data": {
            "text/plain": [
              "(614, 7)"
            ]
          },
          "metadata": {
            "tags": []
          },
          "execution_count": 11
        }
      ]
    },
    {
      "cell_type": "code",
      "metadata": {
        "colab": {
          "base_uri": "https://localhost:8080/"
        },
        "id": "q21LegABLwsL",
        "outputId": "428c96b4-c28e-4d5b-95a3-c7f3098a8617"
      },
      "source": [
        "'''\r\n",
        "to_numeric = {'Male': 1, 'Female': 2,\r\n",
        "'Yes': 1, 'No': 2,\r\n",
        "'Graduate': 1, 'Not Graduate': 2,\r\n",
        "'Urban': 3, 'Semiurban': 2,'Rural': 1,\r\n",
        "'Y': 1, 'N': 0,\r\n",
        "'3+':3}\r\n",
        "\r\n",
        "train_df = train_df.applymap(lambda label: to_numeric.get(label) if label in to_numeric else label)\r\n",
        "test_df = test_df.applymap(lambda label: to_numeric.get(label) if label in to_numeric else label)\r\n",
        "\r\n",
        "\r\n",
        "# Converting the Dependants Column\r\n",
        "Dependants_ = pd.to_numeric(train_df.Dependents)\r\n",
        "Dependants__ = pd.to_numeric(test_df.Dependents)\r\n",
        "\r\n",
        "# Dropping previous dependants column\r\n",
        "train_df.drop(['Dependents'], axis = 1, inplace=True)\r\n",
        "test_df.drop(['Dependents'], axis = 1, inplace=True)\r\n",
        "\r\n",
        "# Concatinating new dependants columns to original datasets\r\n",
        "train_df = pd.Concat([train_df, Dependats_], axis = 1)\r\n",
        "test_df = pd.Concat([train_df, Dependats__], axis = 1)\r\n",
        "\r\n",
        "print(train_df.shape)\r\n",
        "print(train_df.info())\r\n",
        "'''\r\n",
        "\r\n",
        "#converting categorical values to numbers\r\n",
        "\r\n",
        "to_numeric = {'Male': 1, 'Female': 2,\r\n",
        "'Yes': 1, 'No': 2,\r\n",
        "'Graduate': 1, 'Not Graduate': 2,\r\n",
        "'Urban': 3, 'Semiurban': 2,'Rural': 1,\r\n",
        "'Y': 1, 'N': 0,\r\n",
        "'3+': 3}\r\n",
        "\r\n",
        "# adding the new numeric values from the to_numeric variable to both datasets\r\n",
        "train_df = train_df.applymap(lambda label: to_numeric.get(label) if label in to_numeric else label)\r\n",
        "test_df = test_df.applymap(lambda label: to_numeric.get(label) if label in to_numeric else label)\r\n",
        "\r\n",
        "# convertind the Dependents column\r\n",
        "Dependents_ = pd.to_numeric(train_df.Dependents)\r\n",
        "Dependents__ = pd.to_numeric(test_df.Dependents)\r\n",
        "\r\n",
        "# dropping the previous Dependents column\r\n",
        "train_df.drop(['Dependents'], axis = 1, inplace = True)\r\n",
        "test_df.drop(['Dependents'], axis = 1, inplace = True)\r\n",
        "\r\n",
        "# concatination of the new Dependents column with both datasets\r\n",
        "train_df = pd.concat([train_df, Dependents_], axis = 1)\r\n",
        "test_df = pd.concat([test_df, Dependents__], axis = 1)\r\n",
        "\r\n",
        "# checking the our manipulated dataset for validation\r\n",
        "print(f\"training set (row, col): {train_df.shape}\\n\\ntesting set (row, col): {test_df.shape}\\n\")\r\n",
        "print(train_df.info(), \"\\n\\n\", test_df.info())"
      ],
      "execution_count": 8,
      "outputs": [
        {
          "output_type": "stream",
          "text": [
            "training set (row, col): (614, 12)\n",
            "\n",
            "testing set (row, col): (367, 11)\n",
            "\n",
            "<class 'pandas.core.frame.DataFrame'>\n",
            "RangeIndex: 614 entries, 0 to 613\n",
            "Data columns (total 12 columns):\n",
            " #   Column             Non-Null Count  Dtype  \n",
            "---  ------             --------------  -----  \n",
            " 0   Gender             614 non-null    int64  \n",
            " 1   Married            614 non-null    int64  \n",
            " 2   Education          614 non-null    int64  \n",
            " 3   Self_Employed      614 non-null    int64  \n",
            " 4   ApplicantIncome    614 non-null    int64  \n",
            " 5   CoapplicantIncome  614 non-null    float64\n",
            " 6   LoanAmount         614 non-null    float64\n",
            " 7   Loan_Amount_Term   614 non-null    float64\n",
            " 8   Credit_History     614 non-null    float64\n",
            " 9   Property_Area      614 non-null    int64  \n",
            " 10  Loan_Status        614 non-null    int64  \n",
            " 11  Dependents         614 non-null    int64  \n",
            "dtypes: float64(4), int64(8)\n",
            "memory usage: 57.7 KB\n",
            "<class 'pandas.core.frame.DataFrame'>\n",
            "RangeIndex: 367 entries, 0 to 366\n",
            "Data columns (total 11 columns):\n",
            " #   Column             Non-Null Count  Dtype  \n",
            "---  ------             --------------  -----  \n",
            " 0   Gender             356 non-null    float64\n",
            " 1   Married            367 non-null    int64  \n",
            " 2   Education          367 non-null    int64  \n",
            " 3   Self_Employed      344 non-null    float64\n",
            " 4   ApplicantIncome    367 non-null    int64  \n",
            " 5   CoapplicantIncome  367 non-null    int64  \n",
            " 6   LoanAmount         362 non-null    float64\n",
            " 7   Loan_Amount_Term   361 non-null    float64\n",
            " 8   Credit_History     338 non-null    float64\n",
            " 9   Property_Area      367 non-null    int64  \n",
            " 10  Dependents         357 non-null    float64\n",
            "dtypes: float64(6), int64(5)\n",
            "memory usage: 31.7 KB\n",
            "None \n",
            "\n",
            " None\n"
          ],
          "name": "stdout"
        }
      ]
    },
    {
      "cell_type": "code",
      "metadata": {
        "colab": {
          "base_uri": "https://localhost:8080/",
          "height": 663
        },
        "id": "3q8IBcbLYxxE",
        "outputId": "74f9071f-7245-4278-88c9-19413f44934c"
      },
      "source": [
        "from sklearn.preprocessing import OneHotEncoder\r\n",
        "def label_encode(dFrame, category):\r\n",
        "    le = LabelEncoder()\r\n",
        "    dFrame[category] = le.fit_transform(dFrame[category])\r\n",
        "    return dFrame\r\n",
        "\r\n",
        "def onehot_encoder(dFrame, category):\r\n",
        "    onee = OneHotEncoder()\r\n",
        "    dFrame[category] = onee.fit_transform(dFrame[category])\r\n",
        "    return dFrame.to_array()\r\n",
        "\r\n",
        "# for i in range(len(cats[:-1])):\r\n",
        "a = label_encode(train_df, cats[0])\r\n",
        "onehot_encoder(a, cats[0])"
      ],
      "execution_count": 26,
      "outputs": [
        {
          "output_type": "error",
          "ename": "ValueError",
          "evalue": "ignored",
          "traceback": [
            "\u001b[0;31m---------------------------------------------------------------------------\u001b[0m",
            "\u001b[0;31mValueError\u001b[0m                                Traceback (most recent call last)",
            "\u001b[0;32m<ipython-input-26-0e9c8710af99>\u001b[0m in \u001b[0;36m<module>\u001b[0;34m()\u001b[0m\n\u001b[1;32m     12\u001b[0m \u001b[0;31m# for i in range(len(cats[:-1])):\u001b[0m\u001b[0;34m\u001b[0m\u001b[0;34m\u001b[0m\u001b[0;34m\u001b[0m\u001b[0m\n\u001b[1;32m     13\u001b[0m \u001b[0ma\u001b[0m \u001b[0;34m=\u001b[0m \u001b[0mlabel_encode\u001b[0m\u001b[0;34m(\u001b[0m\u001b[0mtrain_df\u001b[0m\u001b[0;34m,\u001b[0m \u001b[0mcats\u001b[0m\u001b[0;34m[\u001b[0m\u001b[0;36m0\u001b[0m\u001b[0;34m]\u001b[0m\u001b[0;34m)\u001b[0m\u001b[0;34m\u001b[0m\u001b[0;34m\u001b[0m\u001b[0m\n\u001b[0;32m---> 14\u001b[0;31m \u001b[0monehot_encoder\u001b[0m\u001b[0;34m(\u001b[0m\u001b[0ma\u001b[0m\u001b[0;34m,\u001b[0m \u001b[0mcats\u001b[0m\u001b[0;34m[\u001b[0m\u001b[0;36m0\u001b[0m\u001b[0;34m]\u001b[0m\u001b[0;34m)\u001b[0m\u001b[0;34m\u001b[0m\u001b[0;34m\u001b[0m\u001b[0m\n\u001b[0m",
            "\u001b[0;32m<ipython-input-26-0e9c8710af99>\u001b[0m in \u001b[0;36monehot_encoder\u001b[0;34m(dFrame, category)\u001b[0m\n\u001b[1;32m      7\u001b[0m \u001b[0;32mdef\u001b[0m \u001b[0monehot_encoder\u001b[0m\u001b[0;34m(\u001b[0m\u001b[0mdFrame\u001b[0m\u001b[0;34m,\u001b[0m \u001b[0mcategory\u001b[0m\u001b[0;34m)\u001b[0m\u001b[0;34m:\u001b[0m\u001b[0;34m\u001b[0m\u001b[0;34m\u001b[0m\u001b[0m\n\u001b[1;32m      8\u001b[0m     \u001b[0monee\u001b[0m \u001b[0;34m=\u001b[0m \u001b[0mOneHotEncoder\u001b[0m\u001b[0;34m(\u001b[0m\u001b[0;34m)\u001b[0m\u001b[0;34m\u001b[0m\u001b[0;34m\u001b[0m\u001b[0m\n\u001b[0;32m----> 9\u001b[0;31m     \u001b[0mdFrame\u001b[0m\u001b[0;34m[\u001b[0m\u001b[0mcategory\u001b[0m\u001b[0;34m]\u001b[0m \u001b[0;34m=\u001b[0m \u001b[0monee\u001b[0m\u001b[0;34m.\u001b[0m\u001b[0mfit_transform\u001b[0m\u001b[0;34m(\u001b[0m\u001b[0mdFrame\u001b[0m\u001b[0;34m[\u001b[0m\u001b[0mcategory\u001b[0m\u001b[0;34m]\u001b[0m\u001b[0;34m)\u001b[0m\u001b[0;34m\u001b[0m\u001b[0;34m\u001b[0m\u001b[0m\n\u001b[0m\u001b[1;32m     10\u001b[0m     \u001b[0;32mreturn\u001b[0m \u001b[0mdFrame\u001b[0m\u001b[0;34m.\u001b[0m\u001b[0mto_array\u001b[0m\u001b[0;34m(\u001b[0m\u001b[0;34m)\u001b[0m\u001b[0;34m\u001b[0m\u001b[0;34m\u001b[0m\u001b[0m\n\u001b[1;32m     11\u001b[0m \u001b[0;34m\u001b[0m\u001b[0m\n",
            "\u001b[0;32m/usr/local/lib/python3.6/dist-packages/sklearn/preprocessing/_encoders.py\u001b[0m in \u001b[0;36mfit_transform\u001b[0;34m(self, X, y)\u001b[0m\n\u001b[1;32m    370\u001b[0m         \"\"\"\n\u001b[1;32m    371\u001b[0m         \u001b[0mself\u001b[0m\u001b[0;34m.\u001b[0m\u001b[0m_validate_keywords\u001b[0m\u001b[0;34m(\u001b[0m\u001b[0;34m)\u001b[0m\u001b[0;34m\u001b[0m\u001b[0;34m\u001b[0m\u001b[0m\n\u001b[0;32m--> 372\u001b[0;31m         \u001b[0;32mreturn\u001b[0m \u001b[0msuper\u001b[0m\u001b[0;34m(\u001b[0m\u001b[0;34m)\u001b[0m\u001b[0;34m.\u001b[0m\u001b[0mfit_transform\u001b[0m\u001b[0;34m(\u001b[0m\u001b[0mX\u001b[0m\u001b[0;34m,\u001b[0m \u001b[0my\u001b[0m\u001b[0;34m)\u001b[0m\u001b[0;34m\u001b[0m\u001b[0;34m\u001b[0m\u001b[0m\n\u001b[0m\u001b[1;32m    373\u001b[0m \u001b[0;34m\u001b[0m\u001b[0m\n\u001b[1;32m    374\u001b[0m     \u001b[0;32mdef\u001b[0m \u001b[0mtransform\u001b[0m\u001b[0;34m(\u001b[0m\u001b[0mself\u001b[0m\u001b[0;34m,\u001b[0m \u001b[0mX\u001b[0m\u001b[0;34m)\u001b[0m\u001b[0;34m:\u001b[0m\u001b[0;34m\u001b[0m\u001b[0;34m\u001b[0m\u001b[0m\n",
            "\u001b[0;32m/usr/local/lib/python3.6/dist-packages/sklearn/base.py\u001b[0m in \u001b[0;36mfit_transform\u001b[0;34m(self, X, y, **fit_params)\u001b[0m\n\u001b[1;32m    569\u001b[0m         \u001b[0;32mif\u001b[0m \u001b[0my\u001b[0m \u001b[0;32mis\u001b[0m \u001b[0;32mNone\u001b[0m\u001b[0;34m:\u001b[0m\u001b[0;34m\u001b[0m\u001b[0;34m\u001b[0m\u001b[0m\n\u001b[1;32m    570\u001b[0m             \u001b[0;31m# fit method of arity 1 (unsupervised transformation)\u001b[0m\u001b[0;34m\u001b[0m\u001b[0;34m\u001b[0m\u001b[0;34m\u001b[0m\u001b[0m\n\u001b[0;32m--> 571\u001b[0;31m             \u001b[0;32mreturn\u001b[0m \u001b[0mself\u001b[0m\u001b[0;34m.\u001b[0m\u001b[0mfit\u001b[0m\u001b[0;34m(\u001b[0m\u001b[0mX\u001b[0m\u001b[0;34m,\u001b[0m \u001b[0;34m**\u001b[0m\u001b[0mfit_params\u001b[0m\u001b[0;34m)\u001b[0m\u001b[0;34m.\u001b[0m\u001b[0mtransform\u001b[0m\u001b[0;34m(\u001b[0m\u001b[0mX\u001b[0m\u001b[0;34m)\u001b[0m\u001b[0;34m\u001b[0m\u001b[0;34m\u001b[0m\u001b[0m\n\u001b[0m\u001b[1;32m    572\u001b[0m         \u001b[0;32melse\u001b[0m\u001b[0;34m:\u001b[0m\u001b[0;34m\u001b[0m\u001b[0;34m\u001b[0m\u001b[0m\n\u001b[1;32m    573\u001b[0m             \u001b[0;31m# fit method of arity 2 (supervised transformation)\u001b[0m\u001b[0;34m\u001b[0m\u001b[0;34m\u001b[0m\u001b[0;34m\u001b[0m\u001b[0m\n",
            "\u001b[0;32m/usr/local/lib/python3.6/dist-packages/sklearn/preprocessing/_encoders.py\u001b[0m in \u001b[0;36mfit\u001b[0;34m(self, X, y)\u001b[0m\n\u001b[1;32m    345\u001b[0m         \"\"\"\n\u001b[1;32m    346\u001b[0m         \u001b[0mself\u001b[0m\u001b[0;34m.\u001b[0m\u001b[0m_validate_keywords\u001b[0m\u001b[0;34m(\u001b[0m\u001b[0;34m)\u001b[0m\u001b[0;34m\u001b[0m\u001b[0;34m\u001b[0m\u001b[0m\n\u001b[0;32m--> 347\u001b[0;31m         \u001b[0mself\u001b[0m\u001b[0;34m.\u001b[0m\u001b[0m_fit\u001b[0m\u001b[0;34m(\u001b[0m\u001b[0mX\u001b[0m\u001b[0;34m,\u001b[0m \u001b[0mhandle_unknown\u001b[0m\u001b[0;34m=\u001b[0m\u001b[0mself\u001b[0m\u001b[0;34m.\u001b[0m\u001b[0mhandle_unknown\u001b[0m\u001b[0;34m)\u001b[0m\u001b[0;34m\u001b[0m\u001b[0;34m\u001b[0m\u001b[0m\n\u001b[0m\u001b[1;32m    348\u001b[0m         \u001b[0mself\u001b[0m\u001b[0;34m.\u001b[0m\u001b[0mdrop_idx_\u001b[0m \u001b[0;34m=\u001b[0m \u001b[0mself\u001b[0m\u001b[0;34m.\u001b[0m\u001b[0m_compute_drop_idx\u001b[0m\u001b[0;34m(\u001b[0m\u001b[0;34m)\u001b[0m\u001b[0;34m\u001b[0m\u001b[0;34m\u001b[0m\u001b[0m\n\u001b[1;32m    349\u001b[0m         \u001b[0;32mreturn\u001b[0m \u001b[0mself\u001b[0m\u001b[0;34m\u001b[0m\u001b[0;34m\u001b[0m\u001b[0m\n",
            "\u001b[0;32m/usr/local/lib/python3.6/dist-packages/sklearn/preprocessing/_encoders.py\u001b[0m in \u001b[0;36m_fit\u001b[0;34m(self, X, handle_unknown)\u001b[0m\n\u001b[1;32m     72\u001b[0m \u001b[0;34m\u001b[0m\u001b[0m\n\u001b[1;32m     73\u001b[0m     \u001b[0;32mdef\u001b[0m \u001b[0m_fit\u001b[0m\u001b[0;34m(\u001b[0m\u001b[0mself\u001b[0m\u001b[0;34m,\u001b[0m \u001b[0mX\u001b[0m\u001b[0;34m,\u001b[0m \u001b[0mhandle_unknown\u001b[0m\u001b[0;34m=\u001b[0m\u001b[0;34m'error'\u001b[0m\u001b[0;34m)\u001b[0m\u001b[0;34m:\u001b[0m\u001b[0;34m\u001b[0m\u001b[0;34m\u001b[0m\u001b[0m\n\u001b[0;32m---> 74\u001b[0;31m         \u001b[0mX_list\u001b[0m\u001b[0;34m,\u001b[0m \u001b[0mn_samples\u001b[0m\u001b[0;34m,\u001b[0m \u001b[0mn_features\u001b[0m \u001b[0;34m=\u001b[0m \u001b[0mself\u001b[0m\u001b[0;34m.\u001b[0m\u001b[0m_check_X\u001b[0m\u001b[0;34m(\u001b[0m\u001b[0mX\u001b[0m\u001b[0;34m)\u001b[0m\u001b[0;34m\u001b[0m\u001b[0;34m\u001b[0m\u001b[0m\n\u001b[0m\u001b[1;32m     75\u001b[0m \u001b[0;34m\u001b[0m\u001b[0m\n\u001b[1;32m     76\u001b[0m         \u001b[0;32mif\u001b[0m \u001b[0mself\u001b[0m\u001b[0;34m.\u001b[0m\u001b[0mcategories\u001b[0m \u001b[0;34m!=\u001b[0m \u001b[0;34m'auto'\u001b[0m\u001b[0;34m:\u001b[0m\u001b[0;34m\u001b[0m\u001b[0;34m\u001b[0m\u001b[0m\n",
            "\u001b[0;32m/usr/local/lib/python3.6/dist-packages/sklearn/preprocessing/_encoders.py\u001b[0m in \u001b[0;36m_check_X\u001b[0;34m(self, X)\u001b[0m\n\u001b[1;32m     41\u001b[0m         \u001b[0;32mif\u001b[0m \u001b[0;32mnot\u001b[0m \u001b[0;34m(\u001b[0m\u001b[0mhasattr\u001b[0m\u001b[0;34m(\u001b[0m\u001b[0mX\u001b[0m\u001b[0;34m,\u001b[0m \u001b[0;34m'iloc'\u001b[0m\u001b[0;34m)\u001b[0m \u001b[0;32mand\u001b[0m \u001b[0mgetattr\u001b[0m\u001b[0;34m(\u001b[0m\u001b[0mX\u001b[0m\u001b[0;34m,\u001b[0m \u001b[0;34m'ndim'\u001b[0m\u001b[0;34m,\u001b[0m \u001b[0;36m0\u001b[0m\u001b[0;34m)\u001b[0m \u001b[0;34m==\u001b[0m \u001b[0;36m2\u001b[0m\u001b[0;34m)\u001b[0m\u001b[0;34m:\u001b[0m\u001b[0;34m\u001b[0m\u001b[0;34m\u001b[0m\u001b[0m\n\u001b[1;32m     42\u001b[0m             \u001b[0;31m# if not a dataframe, do normal check_array validation\u001b[0m\u001b[0;34m\u001b[0m\u001b[0;34m\u001b[0m\u001b[0;34m\u001b[0m\u001b[0m\n\u001b[0;32m---> 43\u001b[0;31m             \u001b[0mX_temp\u001b[0m \u001b[0;34m=\u001b[0m \u001b[0mcheck_array\u001b[0m\u001b[0;34m(\u001b[0m\u001b[0mX\u001b[0m\u001b[0;34m,\u001b[0m \u001b[0mdtype\u001b[0m\u001b[0;34m=\u001b[0m\u001b[0;32mNone\u001b[0m\u001b[0;34m)\u001b[0m\u001b[0;34m\u001b[0m\u001b[0;34m\u001b[0m\u001b[0m\n\u001b[0m\u001b[1;32m     44\u001b[0m             if (not hasattr(X, 'dtype')\n\u001b[1;32m     45\u001b[0m                     and np.issubdtype(X_temp.dtype, np.str_)):\n",
            "\u001b[0;32m/usr/local/lib/python3.6/dist-packages/sklearn/utils/validation.py\u001b[0m in \u001b[0;36mcheck_array\u001b[0;34m(array, accept_sparse, accept_large_sparse, dtype, order, copy, force_all_finite, ensure_2d, allow_nd, ensure_min_samples, ensure_min_features, warn_on_dtype, estimator)\u001b[0m\n\u001b[1;32m    554\u001b[0m                     \u001b[0;34m\"Reshape your data either using array.reshape(-1, 1) if \"\u001b[0m\u001b[0;34m\u001b[0m\u001b[0;34m\u001b[0m\u001b[0m\n\u001b[1;32m    555\u001b[0m                     \u001b[0;34m\"your data has a single feature or array.reshape(1, -1) \"\u001b[0m\u001b[0;34m\u001b[0m\u001b[0;34m\u001b[0m\u001b[0m\n\u001b[0;32m--> 556\u001b[0;31m                     \"if it contains a single sample.\".format(array))\n\u001b[0m\u001b[1;32m    557\u001b[0m \u001b[0;34m\u001b[0m\u001b[0m\n\u001b[1;32m    558\u001b[0m         \u001b[0;31m# in the future np.flexible dtypes will be handled like object dtypes\u001b[0m\u001b[0;34m\u001b[0m\u001b[0;34m\u001b[0m\u001b[0;34m\u001b[0m\u001b[0m\n",
            "\u001b[0;31mValueError\u001b[0m: Expected 2D array, got 1D array instead:\narray=[0 0 0 0 0 0 0 0 0 0 0 0 0 0 0 0 0 1 0 0 0 0 0 0 0 0 0 0 0 1 0 0 0 0 0 0 0\n 1 0 0 0 0 0 0 0 1 0 0 1 1 1 1 1 0 1 0 0 0 0 0 0 0 0 0 1 0 0 0 0 1 0 0 0 0\n 0 0 0 0 0 0 1 0 1 0 0 0 0 0 0 0 0 0 0 0 0 0 1 0 0 0 0 0 0 0 0 0 0 0 0 0 0\n 1 0 1 0 0 1 0 0 1 0 1 1 0 0 1 0 0 0 0 0 0 0 0 0 0 1 0 0 0 0 0 0 0 0 1 1 0\n 1 0 0 0 0 0 0 0 0 0 0 0 0 0 0 0 0 0 1 0 0 0 0 0 0 0 0 0 0 0 0 0 0 0 0 0 1\n 0 0 0 0 0 0 0 0 0 0 0 0 1 1 0 0 0 0 0 0 1 1 0 0 0 1 0 0 0 0 0 0 0 0 1 0 0\n 0 0 0 0 0 0 0 0 0 0 0 1 0 0 0 1 1 0 0 0 0 0 0 0 0 0 0 0 0 1 0 0 0 1 0 0 0\n 0 0 0 1 1 0 0 0 0 1 1 1 0 0 0 0 0 0 0 0 1 0 0 0 1 0 0 1 0 1 0 0 0 0 1 0 0\n 0 1 1 0 0 0 1 0 0 0 1 1 0 0 1 0 1 0 0 0 0 0 1 0 0 0 0 1 0 0 0 0 1 1 0 0 0\n 0 0 0 0 0 1 1 0 1 0 0 0 0 0 0 0 0 0 0 0 1 1 1 0 0 0 0 1 0 0 0 0 0 0 0 0 0\n 1 0 0 0 1 0 0 0 0 0 0 0 1 0 0 0 0 0 0 0 0 0 0 0 0 0 1 0 0 1 0 0 0 1 1 1 0\n 1 0 0 1 0 0 0 1 1 1 0 0 0 0 1 0 0 0 0 1 0 0 0 1 0 0 0 0 1 0 0 0 1 0 0 0 0\n 0 0 0 0 0 0 0 0 0 0 0 0 0 0 0 0 0 0 0 1 0 0 0 0 1 0 0 0 0 1 0 0 0 0 0 0 1\n 0 0 0 0 0 0 0 0 0 0 0 0 1 0 1 0 0 0 0 1 1 0 0 0 0 0 0 0 1 0 0 0 0 0 0 1 0\n 0 1 0 0 0 0 0 0 0 0 0 0 0 0 0 0 1 0 0 0 0 0 1 1 1 0 1 0 0 0 1 0 0 0 0 0 0\n 0 1 0 0 1 0 1 0 0 0 0 0 0 1 0 0 0 0 0 0 0 0 0 0 0 0 0 1 0 0 0 0 1 0 0 0 0\n 0 0 0 0 0 0 0 0 1 0 0 0 1 0 0 0 0 1 0 0 0 1].\nReshape your data either using array.reshape(-1, 1) if your data has a single feature or array.reshape(1, -1) if it contains a single sample."
          ]
        }
      ]
    },
    {
      "cell_type": "code",
      "metadata": {
        "colab": {
          "base_uri": "https://localhost:8080/",
          "height": 224
        },
        "id": "2QSaccEFeN64",
        "outputId": "93dd43c4-b0bb-471c-de59-59da75425938"
      },
      "source": [
        "train_df.tail(5)"
      ],
      "execution_count": 7,
      "outputs": [
        {
          "output_type": "execute_result",
          "data": {
            "text/html": [
              "<div>\n",
              "<style scoped>\n",
              "    .dataframe tbody tr th:only-of-type {\n",
              "        vertical-align: middle;\n",
              "    }\n",
              "\n",
              "    .dataframe tbody tr th {\n",
              "        vertical-align: top;\n",
              "    }\n",
              "\n",
              "    .dataframe thead th {\n",
              "        text-align: right;\n",
              "    }\n",
              "</style>\n",
              "<table border=\"1\" class=\"dataframe\">\n",
              "  <thead>\n",
              "    <tr style=\"text-align: right;\">\n",
              "      <th></th>\n",
              "      <th>Gender</th>\n",
              "      <th>Married</th>\n",
              "      <th>Dependents</th>\n",
              "      <th>Education</th>\n",
              "      <th>Self_Employed</th>\n",
              "      <th>ApplicantIncome</th>\n",
              "      <th>CoapplicantIncome</th>\n",
              "      <th>LoanAmount</th>\n",
              "      <th>Loan_Amount_Term</th>\n",
              "      <th>Credit_History</th>\n",
              "      <th>Property_Area</th>\n",
              "      <th>Loan_Status</th>\n",
              "    </tr>\n",
              "  </thead>\n",
              "  <tbody>\n",
              "    <tr>\n",
              "      <th>609</th>\n",
              "      <td>Female</td>\n",
              "      <td>No</td>\n",
              "      <td>0</td>\n",
              "      <td>Graduate</td>\n",
              "      <td>No</td>\n",
              "      <td>2900</td>\n",
              "      <td>0.0</td>\n",
              "      <td>71.0</td>\n",
              "      <td>360.0</td>\n",
              "      <td>1.0</td>\n",
              "      <td>Rural</td>\n",
              "      <td>Y</td>\n",
              "    </tr>\n",
              "    <tr>\n",
              "      <th>610</th>\n",
              "      <td>Male</td>\n",
              "      <td>Yes</td>\n",
              "      <td>3</td>\n",
              "      <td>Graduate</td>\n",
              "      <td>No</td>\n",
              "      <td>4106</td>\n",
              "      <td>0.0</td>\n",
              "      <td>40.0</td>\n",
              "      <td>180.0</td>\n",
              "      <td>1.0</td>\n",
              "      <td>Rural</td>\n",
              "      <td>Y</td>\n",
              "    </tr>\n",
              "    <tr>\n",
              "      <th>611</th>\n",
              "      <td>Male</td>\n",
              "      <td>Yes</td>\n",
              "      <td>1</td>\n",
              "      <td>Graduate</td>\n",
              "      <td>No</td>\n",
              "      <td>8072</td>\n",
              "      <td>240.0</td>\n",
              "      <td>253.0</td>\n",
              "      <td>360.0</td>\n",
              "      <td>1.0</td>\n",
              "      <td>Urban</td>\n",
              "      <td>Y</td>\n",
              "    </tr>\n",
              "    <tr>\n",
              "      <th>612</th>\n",
              "      <td>Male</td>\n",
              "      <td>Yes</td>\n",
              "      <td>2</td>\n",
              "      <td>Graduate</td>\n",
              "      <td>No</td>\n",
              "      <td>7583</td>\n",
              "      <td>0.0</td>\n",
              "      <td>187.0</td>\n",
              "      <td>360.0</td>\n",
              "      <td>1.0</td>\n",
              "      <td>Urban</td>\n",
              "      <td>Y</td>\n",
              "    </tr>\n",
              "    <tr>\n",
              "      <th>613</th>\n",
              "      <td>Female</td>\n",
              "      <td>No</td>\n",
              "      <td>0</td>\n",
              "      <td>Graduate</td>\n",
              "      <td>Yes</td>\n",
              "      <td>4583</td>\n",
              "      <td>0.0</td>\n",
              "      <td>133.0</td>\n",
              "      <td>360.0</td>\n",
              "      <td>0.0</td>\n",
              "      <td>Semiurban</td>\n",
              "      <td>N</td>\n",
              "    </tr>\n",
              "  </tbody>\n",
              "</table>\n",
              "</div>"
            ],
            "text/plain": [
              "     Gender Married Dependents  ... Credit_History Property_Area  Loan_Status\n",
              "609  Female      No          0  ...            1.0         Rural            Y\n",
              "610    Male     Yes          3  ...            1.0         Rural            Y\n",
              "611    Male     Yes          1  ...            1.0         Urban            Y\n",
              "612    Male     Yes          2  ...            1.0         Urban            Y\n",
              "613  Female      No          0  ...            0.0     Semiurban            N\n",
              "\n",
              "[5 rows x 12 columns]"
            ]
          },
          "metadata": {
            "tags": []
          },
          "execution_count": 7
        }
      ]
    },
    {
      "cell_type": "markdown",
      "metadata": {
        "id": "M7DD9rlV6e_G"
      },
      "source": [
        "**Correlation Matrix**"
      ]
    },
    {
      "cell_type": "code",
      "metadata": {
        "colab": {
          "base_uri": "https://localhost:8080/",
          "height": 386
        },
        "id": "wTmC5JzZ6ciB",
        "outputId": "17fbd1b7-8064-477a-b1ea-d58d3a4f4b7c"
      },
      "source": [
        "sns.heatmap(train_df.corr(), cmap='cubehelix_r')"
      ],
      "execution_count": 10,
      "outputs": [
        {
          "output_type": "execute_result",
          "data": {
            "text/plain": [
              "<matplotlib.axes._subplots.AxesSubplot at 0x7efe12859860>"
            ]
          },
          "metadata": {
            "tags": []
          },
          "execution_count": 10
        },
        {
          "output_type": "display_data",
          "data": {
            "image/png": "[encoded data removed]",
            "text/plain": [
              "<Figure size 432x288 with 2 Axes>"
            ]
          },
          "metadata": {
            "tags": [],
            "needs_background": "light"
          }
        }
      ]
    },
    {
      "cell_type": "code",
      "metadata": {
        "colab": {
          "base_uri": "https://localhost:8080/",
          "height": 312
        },
        "id": "1GtCdVFV7gUm",
        "outputId": "2e14db5b-6aa1-41d6-e3b6-475c3dd7db66"
      },
      "source": [
        "corr = train_df.corr()\r\n",
        "corr.style.background_gradient(cmap='coolwarm').set_precision(2)"
      ],
      "execution_count": 11,
      "outputs": [
        {
          "output_type": "execute_result",
          "data": {
            "text/html": [
              "<style  type=\"text/css\" >\n",
              "#T_60411e04_638c_11eb_a350_0242ac1c0002row0_col0,#T_60411e04_638c_11eb_a350_0242ac1c0002row1_col1,#T_60411e04_638c_11eb_a350_0242ac1c0002row2_col2,#T_60411e04_638c_11eb_a350_0242ac1c0002row3_col3,#T_60411e04_638c_11eb_a350_0242ac1c0002row4_col4,#T_60411e04_638c_11eb_a350_0242ac1c0002row5_col5,#T_60411e04_638c_11eb_a350_0242ac1c0002row6_col6,#T_60411e04_638c_11eb_a350_0242ac1c0002row7_col7,#T_60411e04_638c_11eb_a350_0242ac1c0002row8_col8,#T_60411e04_638c_11eb_a350_0242ac1c0002row9_col9,#T_60411e04_638c_11eb_a350_0242ac1c0002row10_col10,#T_60411e04_638c_11eb_a350_0242ac1c0002row11_col11{\n",
              "            background-color:  #b40426;\n",
              "            color:  #f1f1f1;\n",
              "        }#T_60411e04_638c_11eb_a350_0242ac1c0002row0_col1{\n",
              "            background-color:  #e3d9d3;\n",
              "            color:  #000000;\n",
              "        }#T_60411e04_638c_11eb_a350_0242ac1c0002row0_col2,#T_60411e04_638c_11eb_a350_0242ac1c0002row2_col0,#T_60411e04_638c_11eb_a350_0242ac1c0002row8_col4{\n",
              "            background-color:  #5b7ae5;\n",
              "            color:  #000000;\n",
              "        }#T_60411e04_638c_11eb_a350_0242ac1c0002row0_col3,#T_60411e04_638c_11eb_a350_0242ac1c0002row9_col10{\n",
              "            background-color:  #5d7ce6;\n",
              "            color:  #000000;\n",
              "        }#T_60411e04_638c_11eb_a350_0242ac1c0002row0_col4,#T_60411e04_638c_11eb_a350_0242ac1c0002row8_col9,#T_60411e04_638c_11eb_a350_0242ac1c0002row9_col8,#T_60411e04_638c_11eb_a350_0242ac1c0002row10_col2,#T_60411e04_638c_11eb_a350_0242ac1c0002row10_col7,#T_60411e04_638c_11eb_a350_0242ac1c0002row11_col9{\n",
              "            background-color:  #506bda;\n",
              "            color:  #000000;\n",
              "        }#T_60411e04_638c_11eb_a350_0242ac1c0002row0_col5,#T_60411e04_638c_11eb_a350_0242ac1c0002row5_col10,#T_60411e04_638c_11eb_a350_0242ac1c0002row11_col8{\n",
              "            background-color:  #4358cb;\n",
              "            color:  #f1f1f1;\n",
              "        }#T_60411e04_638c_11eb_a350_0242ac1c0002row0_col6,#T_60411e04_638c_11eb_a350_0242ac1c0002row4_col7,#T_60411e04_638c_11eb_a350_0242ac1c0002row4_col8,#T_60411e04_638c_11eb_a350_0242ac1c0002row6_col10,#T_60411e04_638c_11eb_a350_0242ac1c0002row7_col5,#T_60411e04_638c_11eb_a350_0242ac1c0002row10_col5{\n",
              "            background-color:  #4a63d3;\n",
              "            color:  #f1f1f1;\n",
              "        }#T_60411e04_638c_11eb_a350_0242ac1c0002row0_col7{\n",
              "            background-color:  #6e90f2;\n",
              "            color:  #000000;\n",
              "        }#T_60411e04_638c_11eb_a350_0242ac1c0002row0_col8,#T_60411e04_638c_11eb_a350_0242ac1c0002row4_col9,#T_60411e04_638c_11eb_a350_0242ac1c0002row11_col3{\n",
              "            background-color:  #4c66d6;\n",
              "            color:  #000000;\n",
              "        }#T_60411e04_638c_11eb_a350_0242ac1c0002row0_col9,#T_60411e04_638c_11eb_a350_0242ac1c0002row4_col0{\n",
              "            background-color:  #5875e1;\n",
              "            color:  #000000;\n",
              "        }#T_60411e04_638c_11eb_a350_0242ac1c0002row0_col10,#T_60411e04_638c_11eb_a350_0242ac1c0002row1_col9,#T_60411e04_638c_11eb_a350_0242ac1c0002row3_col8,#T_60411e04_638c_11eb_a350_0242ac1c0002row6_col8{\n",
              "            background-color:  #4f69d9;\n",
              "            color:  #000000;\n",
              "        }#T_60411e04_638c_11eb_a350_0242ac1c0002row0_col11,#T_60411e04_638c_11eb_a350_0242ac1c0002row3_col5,#T_60411e04_638c_11eb_a350_0242ac1c0002row10_col4,#T_60411e04_638c_11eb_a350_0242ac1c0002row10_col6{\n",
              "            background-color:  #5f7fe8;\n",
              "            color:  #000000;\n",
              "        }#T_60411e04_638c_11eb_a350_0242ac1c0002row1_col0{\n",
              "            background-color:  #d2dbe8;\n",
              "            color:  #000000;\n",
              "        }#T_60411e04_638c_11eb_a350_0242ac1c0002row1_col2{\n",
              "            background-color:  #6485ec;\n",
              "            color:  #000000;\n",
              "        }#T_60411e04_638c_11eb_a350_0242ac1c0002row1_col3,#T_60411e04_638c_11eb_a350_0242ac1c0002row8_col3,#T_60411e04_638c_11eb_a350_0242ac1c0002row8_col5,#T_60411e04_638c_11eb_a350_0242ac1c0002row9_col4,#T_60411e04_638c_11eb_a350_0242ac1c0002row9_col5,#T_60411e04_638c_11eb_a350_0242ac1c0002row10_col3{\n",
              "            background-color:  #5e7de7;\n",
              "            color:  #000000;\n",
              "        }#T_60411e04_638c_11eb_a350_0242ac1c0002row1_col4,#T_60411e04_638c_11eb_a350_0242ac1c0002row5_col0{\n",
              "            background-color:  #516ddb;\n",
              "            color:  #000000;\n",
              "        }#T_60411e04_638c_11eb_a350_0242ac1c0002row1_col5{\n",
              "            background-color:  #455cce;\n",
              "            color:  #f1f1f1;\n",
              "        }#T_60411e04_638c_11eb_a350_0242ac1c0002row1_col6,#T_60411e04_638c_11eb_a350_0242ac1c0002row5_col4{\n",
              "            background-color:  #4055c8;\n",
              "            color:  #f1f1f1;\n",
              "        }#T_60411e04_638c_11eb_a350_0242ac1c0002row1_col7{\n",
              "            background-color:  #7699f6;\n",
              "            color:  #000000;\n",
              "        }#T_60411e04_638c_11eb_a350_0242ac1c0002row1_col8,#T_60411e04_638c_11eb_a350_0242ac1c0002row6_col0{\n",
              "            background-color:  #4b64d5;\n",
              "            color:  #f1f1f1;\n",
              "        }#T_60411e04_638c_11eb_a350_0242ac1c0002row1_col10,#T_60411e04_638c_11eb_a350_0242ac1c0002row1_col11,#T_60411e04_638c_11eb_a350_0242ac1c0002row2_col4,#T_60411e04_638c_11eb_a350_0242ac1c0002row2_col6,#T_60411e04_638c_11eb_a350_0242ac1c0002row2_col8,#T_60411e04_638c_11eb_a350_0242ac1c0002row4_col3,#T_60411e04_638c_11eb_a350_0242ac1c0002row4_col5,#T_60411e04_638c_11eb_a350_0242ac1c0002row6_col2,#T_60411e04_638c_11eb_a350_0242ac1c0002row7_col9,#T_60411e04_638c_11eb_a350_0242ac1c0002row11_col0,#T_60411e04_638c_11eb_a350_0242ac1c0002row11_col1,#T_60411e04_638c_11eb_a350_0242ac1c0002row11_col7{\n",
              "            background-color:  #3b4cc0;\n",
              "            color:  #f1f1f1;\n",
              "        }#T_60411e04_638c_11eb_a350_0242ac1c0002row2_col1{\n",
              "            background-color:  #89acfd;\n",
              "            color:  #000000;\n",
              "        }#T_60411e04_638c_11eb_a350_0242ac1c0002row2_col3,#T_60411e04_638c_11eb_a350_0242ac1c0002row3_col7{\n",
              "            background-color:  #6180e9;\n",
              "            color:  #000000;\n",
              "        }#T_60411e04_638c_11eb_a350_0242ac1c0002row2_col5{\n",
              "            background-color:  #4961d2;\n",
              "            color:  #f1f1f1;\n",
              "        }#T_60411e04_638c_11eb_a350_0242ac1c0002row2_col7,#T_60411e04_638c_11eb_a350_0242ac1c0002row4_col2,#T_60411e04_638c_11eb_a350_0242ac1c0002row6_col9,#T_60411e04_638c_11eb_a350_0242ac1c0002row9_col7{\n",
              "            background-color:  #4257c9;\n",
              "            color:  #f1f1f1;\n",
              "        }#T_60411e04_638c_11eb_a350_0242ac1c0002row2_col9,#T_60411e04_638c_11eb_a350_0242ac1c0002row6_col3{\n",
              "            background-color:  #3d50c3;\n",
              "            color:  #f1f1f1;\n",
              "        }#T_60411e04_638c_11eb_a350_0242ac1c0002row2_col10{\n",
              "            background-color:  #3c4ec2;\n",
              "            color:  #f1f1f1;\n",
              "        }#T_60411e04_638c_11eb_a350_0242ac1c0002row2_col11{\n",
              "            background-color:  #9bbcff;\n",
              "            color:  #000000;\n",
              "        }#T_60411e04_638c_11eb_a350_0242ac1c0002row3_col0,#T_60411e04_638c_11eb_a350_0242ac1c0002row8_col6{\n",
              "            background-color:  #688aef;\n",
              "            color:  #000000;\n",
              "        }#T_60411e04_638c_11eb_a350_0242ac1c0002row3_col1,#T_60411e04_638c_11eb_a350_0242ac1c0002row9_col11{\n",
              "            background-color:  #8db0fe;\n",
              "            color:  #000000;\n",
              "        }#T_60411e04_638c_11eb_a350_0242ac1c0002row3_col2{\n",
              "            background-color:  #6b8df0;\n",
              "            color:  #000000;\n",
              "        }#T_60411e04_638c_11eb_a350_0242ac1c0002row3_col4{\n",
              "            background-color:  #3e51c5;\n",
              "            color:  #f1f1f1;\n",
              "        }#T_60411e04_638c_11eb_a350_0242ac1c0002row3_col6{\n",
              "            background-color:  #485fd1;\n",
              "            color:  #f1f1f1;\n",
              "        }#T_60411e04_638c_11eb_a350_0242ac1c0002row3_col9,#T_60411e04_638c_11eb_a350_0242ac1c0002row10_col9{\n",
              "            background-color:  #5977e3;\n",
              "            color:  #000000;\n",
              "        }#T_60411e04_638c_11eb_a350_0242ac1c0002row3_col10,#T_60411e04_638c_11eb_a350_0242ac1c0002row8_col7,#T_60411e04_638c_11eb_a350_0242ac1c0002row9_col2{\n",
              "            background-color:  #5572df;\n",
              "            color:  #000000;\n",
              "        }#T_60411e04_638c_11eb_a350_0242ac1c0002row3_col11,#T_60411e04_638c_11eb_a350_0242ac1c0002row7_col0{\n",
              "            background-color:  #7ea1fa;\n",
              "            color:  #000000;\n",
              "        }#T_60411e04_638c_11eb_a350_0242ac1c0002row4_col1{\n",
              "            background-color:  #80a3fa;\n",
              "            color:  #000000;\n",
              "        }#T_60411e04_638c_11eb_a350_0242ac1c0002row4_col6{\n",
              "            background-color:  #f5c4ac;\n",
              "            color:  #000000;\n",
              "        }#T_60411e04_638c_11eb_a350_0242ac1c0002row4_col10,#T_60411e04_638c_11eb_a350_0242ac1c0002row5_col8,#T_60411e04_638c_11eb_a350_0242ac1c0002row5_col9,#T_60411e04_638c_11eb_a350_0242ac1c0002row7_col2,#T_60411e04_638c_11eb_a350_0242ac1c0002row8_col2{\n",
              "            background-color:  #536edd;\n",
              "            color:  #000000;\n",
              "        }#T_60411e04_638c_11eb_a350_0242ac1c0002row4_col11{\n",
              "            background-color:  #abc8fd;\n",
              "            color:  #000000;\n",
              "        }#T_60411e04_638c_11eb_a350_0242ac1c0002row5_col1,#T_60411e04_638c_11eb_a350_0242ac1c0002row11_col2{\n",
              "            background-color:  #799cf8;\n",
              "            color:  #000000;\n",
              "        }#T_60411e04_638c_11eb_a350_0242ac1c0002row5_col2,#T_60411e04_638c_11eb_a350_0242ac1c0002row11_col10{\n",
              "            background-color:  #5673e0;\n",
              "            color:  #000000;\n",
              "        }#T_60411e04_638c_11eb_a350_0242ac1c0002row5_col3,#T_60411e04_638c_11eb_a350_0242ac1c0002row6_col7{\n",
              "            background-color:  #6282ea;\n",
              "            color:  #000000;\n",
              "        }#T_60411e04_638c_11eb_a350_0242ac1c0002row5_col6{\n",
              "            background-color:  #a1c0ff;\n",
              "            color:  #000000;\n",
              "        }#T_60411e04_638c_11eb_a350_0242ac1c0002row5_col7{\n",
              "            background-color:  #465ecf;\n",
              "            color:  #f1f1f1;\n",
              "        }#T_60411e04_638c_11eb_a350_0242ac1c0002row5_col11{\n",
              "            background-color:  #94b6ff;\n",
              "            color:  #000000;\n",
              "        }#T_60411e04_638c_11eb_a350_0242ac1c0002row6_col1,#T_60411e04_638c_11eb_a350_0242ac1c0002row7_col3{\n",
              "            background-color:  #6788ee;\n",
              "            color:  #000000;\n",
              "        }#T_60411e04_638c_11eb_a350_0242ac1c0002row6_col4{\n",
              "            background-color:  #f4c6af;\n",
              "            color:  #000000;\n",
              "        }#T_60411e04_638c_11eb_a350_0242ac1c0002row6_col5{\n",
              "            background-color:  #96b7ff;\n",
              "            color:  #000000;\n",
              "        }#T_60411e04_638c_11eb_a350_0242ac1c0002row6_col11{\n",
              "            background-color:  #b7cff9;\n",
              "            color:  #000000;\n",
              "        }#T_60411e04_638c_11eb_a350_0242ac1c0002row7_col1{\n",
              "            background-color:  #a7c5fe;\n",
              "            color:  #000000;\n",
              "        }#T_60411e04_638c_11eb_a350_0242ac1c0002row7_col4{\n",
              "            background-color:  #5470de;\n",
              "            color:  #000000;\n",
              "        }#T_60411e04_638c_11eb_a350_0242ac1c0002row7_col6{\n",
              "            background-color:  #7396f5;\n",
              "            color:  #000000;\n",
              "        }#T_60411e04_638c_11eb_a350_0242ac1c0002row7_col8,#T_60411e04_638c_11eb_a350_0242ac1c0002row7_col10{\n",
              "            background-color:  #4e68d8;\n",
              "            color:  #000000;\n",
              "        }#T_60411e04_638c_11eb_a350_0242ac1c0002row7_col11{\n",
              "            background-color:  #7295f4;\n",
              "            color:  #000000;\n",
              "        }#T_60411e04_638c_11eb_a350_0242ac1c0002row8_col0,#T_60411e04_638c_11eb_a350_0242ac1c0002row9_col3{\n",
              "            background-color:  #6687ed;\n",
              "            color:  #000000;\n",
              "        }#T_60411e04_638c_11eb_a350_0242ac1c0002row8_col1{\n",
              "            background-color:  #8badfd;\n",
              "            color:  #000000;\n",
              "        }#T_60411e04_638c_11eb_a350_0242ac1c0002row8_col10{\n",
              "            background-color:  #efcfbf;\n",
              "            color:  #000000;\n",
              "        }#T_60411e04_638c_11eb_a350_0242ac1c0002row8_col11{\n",
              "            background-color:  #82a6fb;\n",
              "            color:  #000000;\n",
              "        }#T_60411e04_638c_11eb_a350_0242ac1c0002row9_col0{\n",
              "            background-color:  #7093f3;\n",
              "            color:  #000000;\n",
              "        }#T_60411e04_638c_11eb_a350_0242ac1c0002row9_col1{\n",
              "            background-color:  #8caffe;\n",
              "            color:  #000000;\n",
              "        }#T_60411e04_638c_11eb_a350_0242ac1c0002row9_col6{\n",
              "            background-color:  #5a78e4;\n",
              "            color:  #000000;\n",
              "        }#T_60411e04_638c_11eb_a350_0242ac1c0002row10_col0,#T_60411e04_638c_11eb_a350_0242ac1c0002row11_col5{\n",
              "            background-color:  #6384eb;\n",
              "            color:  #000000;\n",
              "        }#T_60411e04_638c_11eb_a350_0242ac1c0002row10_col1{\n",
              "            background-color:  #7597f6;\n",
              "            color:  #000000;\n",
              "        }#T_60411e04_638c_11eb_a350_0242ac1c0002row10_col8{\n",
              "            background-color:  #edd1c2;\n",
              "            color:  #000000;\n",
              "        }#T_60411e04_638c_11eb_a350_0242ac1c0002row10_col11{\n",
              "            background-color:  #90b2fe;\n",
              "            color:  #000000;\n",
              "        }#T_60411e04_638c_11eb_a350_0242ac1c0002row11_col4{\n",
              "            background-color:  #85a8fc;\n",
              "            color:  #000000;\n",
              "        }#T_60411e04_638c_11eb_a350_0242ac1c0002row11_col6{\n",
              "            background-color:  #98b9ff;\n",
              "            color:  #000000;\n",
              "        }</style><table id=\"T_60411e04_638c_11eb_a350_0242ac1c0002\" ><thead>    <tr>        <th class=\"blank level0\" ></th>        <th class=\"col_heading level0 col0\" >Gender</th>        <th class=\"col_heading level0 col1\" >Married</th>        <th class=\"col_heading level0 col2\" >Education</th>        <th class=\"col_heading level0 col3\" >Self_Employed</th>        <th class=\"col_heading level0 col4\" >ApplicantIncome</th>        <th class=\"col_heading level0 col5\" >CoapplicantIncome</th>        <th class=\"col_heading level0 col6\" >LoanAmount</th>        <th class=\"col_heading level0 col7\" >Loan_Amount_Term</th>        <th class=\"col_heading level0 col8\" >Credit_History</th>        <th class=\"col_heading level0 col9\" >Property_Area</th>        <th class=\"col_heading level0 col10\" >Loan_Status</th>        <th class=\"col_heading level0 col11\" >Dependents</th>    </tr></thead><tbody>\n",
              "                <tr>\n",
              "                        <th id=\"T_60411e04_638c_11eb_a350_0242ac1c0002level0_row0\" class=\"row_heading level0 row0\" >Gender</th>\n",
              "                        <td id=\"T_60411e04_638c_11eb_a350_0242ac1c0002row0_col0\" class=\"data row0 col0\" >1.00</td>\n",
              "                        <td id=\"T_60411e04_638c_11eb_a350_0242ac1c0002row0_col1\" class=\"data row0 col1\" >0.36</td>\n",
              "                        <td id=\"T_60411e04_638c_11eb_a350_0242ac1c0002row0_col2\" class=\"data row0 col2\" >-0.05</td>\n",
              "                        <td id=\"T_60411e04_638c_11eb_a350_0242ac1c0002row0_col3\" class=\"data row0 col3\" >-0.00</td>\n",
              "                        <td id=\"T_60411e04_638c_11eb_a350_0242ac1c0002row0_col4\" class=\"data row0 col4\" >-0.06</td>\n",
              "                        <td id=\"T_60411e04_638c_11eb_a350_0242ac1c0002row0_col5\" class=\"data row0 col5\" >-0.08</td>\n",
              "                        <td id=\"T_60411e04_638c_11eb_a350_0242ac1c0002row0_col6\" class=\"data row0 col6\" >-0.11</td>\n",
              "                        <td id=\"T_60411e04_638c_11eb_a350_0242ac1c0002row0_col7\" class=\"data row0 col7\" >0.07</td>\n",
              "                        <td id=\"T_60411e04_638c_11eb_a350_0242ac1c0002row0_col8\" class=\"data row0 col8\" >-0.01</td>\n",
              "                        <td id=\"T_60411e04_638c_11eb_a350_0242ac1c0002row0_col9\" class=\"data row0 col9\" >0.03</td>\n",
              "                        <td id=\"T_60411e04_638c_11eb_a350_0242ac1c0002row0_col10\" class=\"data row0 col10\" >-0.02</td>\n",
              "                        <td id=\"T_60411e04_638c_11eb_a350_0242ac1c0002row0_col11\" class=\"data row0 col11\" >-0.17</td>\n",
              "            </tr>\n",
              "            <tr>\n",
              "                        <th id=\"T_60411e04_638c_11eb_a350_0242ac1c0002level0_row1\" class=\"row_heading level0 row1\" >Married</th>\n",
              "                        <td id=\"T_60411e04_638c_11eb_a350_0242ac1c0002row1_col0\" class=\"data row1 col0\" >0.36</td>\n",
              "                        <td id=\"T_60411e04_638c_11eb_a350_0242ac1c0002row1_col1\" class=\"data row1 col1\" >1.00</td>\n",
              "                        <td id=\"T_60411e04_638c_11eb_a350_0242ac1c0002row1_col2\" class=\"data row1 col2\" >-0.01</td>\n",
              "                        <td id=\"T_60411e04_638c_11eb_a350_0242ac1c0002row1_col3\" class=\"data row1 col3\" >0.00</td>\n",
              "                        <td id=\"T_60411e04_638c_11eb_a350_0242ac1c0002row1_col4\" class=\"data row1 col4\" >-0.05</td>\n",
              "                        <td id=\"T_60411e04_638c_11eb_a350_0242ac1c0002row1_col5\" class=\"data row1 col5\" >-0.08</td>\n",
              "                        <td id=\"T_60411e04_638c_11eb_a350_0242ac1c0002row1_col6\" class=\"data row1 col6\" >-0.15</td>\n",
              "                        <td id=\"T_60411e04_638c_11eb_a350_0242ac1c0002row1_col7\" class=\"data row1 col7\" >0.10</td>\n",
              "                        <td id=\"T_60411e04_638c_11eb_a350_0242ac1c0002row1_col8\" class=\"data row1 col8\" >-0.01</td>\n",
              "                        <td id=\"T_60411e04_638c_11eb_a350_0242ac1c0002row1_col9\" class=\"data row1 col9\" >-0.00</td>\n",
              "                        <td id=\"T_60411e04_638c_11eb_a350_0242ac1c0002row1_col10\" class=\"data row1 col10\" >-0.09</td>\n",
              "                        <td id=\"T_60411e04_638c_11eb_a350_0242ac1c0002row1_col11\" class=\"data row1 col11\" >-0.33</td>\n",
              "            </tr>\n",
              "            <tr>\n",
              "                        <th id=\"T_60411e04_638c_11eb_a350_0242ac1c0002level0_row2\" class=\"row_heading level0 row2\" >Education</th>\n",
              "                        <td id=\"T_60411e04_638c_11eb_a350_0242ac1c0002row2_col0\" class=\"data row2 col0\" >-0.05</td>\n",
              "                        <td id=\"T_60411e04_638c_11eb_a350_0242ac1c0002row2_col1\" class=\"data row2 col1\" >-0.01</td>\n",
              "                        <td id=\"T_60411e04_638c_11eb_a350_0242ac1c0002row2_col2\" class=\"data row2 col2\" >1.00</td>\n",
              "                        <td id=\"T_60411e04_638c_11eb_a350_0242ac1c0002row2_col3\" class=\"data row2 col3\" >0.01</td>\n",
              "                        <td id=\"T_60411e04_638c_11eb_a350_0242ac1c0002row2_col4\" class=\"data row2 col4\" >-0.14</td>\n",
              "                        <td id=\"T_60411e04_638c_11eb_a350_0242ac1c0002row2_col5\" class=\"data row2 col5\" >-0.06</td>\n",
              "                        <td id=\"T_60411e04_638c_11eb_a350_0242ac1c0002row2_col6\" class=\"data row2 col6\" >-0.17</td>\n",
              "                        <td id=\"T_60411e04_638c_11eb_a350_0242ac1c0002row2_col7\" class=\"data row2 col7\" >-0.07</td>\n",
              "                        <td id=\"T_60411e04_638c_11eb_a350_0242ac1c0002row2_col8\" class=\"data row2 col8\" >-0.07</td>\n",
              "                        <td id=\"T_60411e04_638c_11eb_a350_0242ac1c0002row2_col9\" class=\"data row2 col9\" >-0.07</td>\n",
              "                        <td id=\"T_60411e04_638c_11eb_a350_0242ac1c0002row2_col10\" class=\"data row2 col10\" >-0.09</td>\n",
              "                        <td id=\"T_60411e04_638c_11eb_a350_0242ac1c0002row2_col11\" class=\"data row2 col11\" >0.06</td>\n",
              "            </tr>\n",
              "            <tr>\n",
              "                        <th id=\"T_60411e04_638c_11eb_a350_0242ac1c0002level0_row3\" class=\"row_heading level0 row3\" >Self_Employed</th>\n",
              "                        <td id=\"T_60411e04_638c_11eb_a350_0242ac1c0002row3_col0\" class=\"data row3 col0\" >-0.00</td>\n",
              "                        <td id=\"T_60411e04_638c_11eb_a350_0242ac1c0002row3_col1\" class=\"data row3 col1\" >0.00</td>\n",
              "                        <td id=\"T_60411e04_638c_11eb_a350_0242ac1c0002row3_col2\" class=\"data row3 col2\" >0.01</td>\n",
              "                        <td id=\"T_60411e04_638c_11eb_a350_0242ac1c0002row3_col3\" class=\"data row3 col3\" >1.00</td>\n",
              "                        <td id=\"T_60411e04_638c_11eb_a350_0242ac1c0002row3_col4\" class=\"data row3 col4\" >-0.13</td>\n",
              "                        <td id=\"T_60411e04_638c_11eb_a350_0242ac1c0002row3_col5\" class=\"data row3 col5\" >0.02</td>\n",
              "                        <td id=\"T_60411e04_638c_11eb_a350_0242ac1c0002row3_col6\" class=\"data row3 col6\" >-0.11</td>\n",
              "                        <td id=\"T_60411e04_638c_11eb_a350_0242ac1c0002row3_col7\" class=\"data row3 col7\" >0.03</td>\n",
              "                        <td id=\"T_60411e04_638c_11eb_a350_0242ac1c0002row3_col8\" class=\"data row3 col8\" >0.00</td>\n",
              "                        <td id=\"T_60411e04_638c_11eb_a350_0242ac1c0002row3_col9\" class=\"data row3 col9\" >0.03</td>\n",
              "                        <td id=\"T_60411e04_638c_11eb_a350_0242ac1c0002row3_col10\" class=\"data row3 col10\" >0.00</td>\n",
              "                        <td id=\"T_60411e04_638c_11eb_a350_0242ac1c0002row3_col11\" class=\"data row3 col11\" >-0.06</td>\n",
              "            </tr>\n",
              "            <tr>\n",
              "                        <th id=\"T_60411e04_638c_11eb_a350_0242ac1c0002level0_row4\" class=\"row_heading level0 row4\" >ApplicantIncome</th>\n",
              "                        <td id=\"T_60411e04_638c_11eb_a350_0242ac1c0002row4_col0\" class=\"data row4 col0\" >-0.06</td>\n",
              "                        <td id=\"T_60411e04_638c_11eb_a350_0242ac1c0002row4_col1\" class=\"data row4 col1\" >-0.05</td>\n",
              "                        <td id=\"T_60411e04_638c_11eb_a350_0242ac1c0002row4_col2\" class=\"data row4 col2\" >-0.14</td>\n",
              "                        <td id=\"T_60411e04_638c_11eb_a350_0242ac1c0002row4_col3\" class=\"data row4 col3\" >-0.13</td>\n",
              "                        <td id=\"T_60411e04_638c_11eb_a350_0242ac1c0002row4_col4\" class=\"data row4 col4\" >1.00</td>\n",
              "                        <td id=\"T_60411e04_638c_11eb_a350_0242ac1c0002row4_col5\" class=\"data row4 col5\" >-0.12</td>\n",
              "                        <td id=\"T_60411e04_638c_11eb_a350_0242ac1c0002row4_col6\" class=\"data row4 col6\" >0.56</td>\n",
              "                        <td id=\"T_60411e04_638c_11eb_a350_0242ac1c0002row4_col7\" class=\"data row4 col7\" >-0.05</td>\n",
              "                        <td id=\"T_60411e04_638c_11eb_a350_0242ac1c0002row4_col8\" class=\"data row4 col8\" >-0.02</td>\n",
              "                        <td id=\"T_60411e04_638c_11eb_a350_0242ac1c0002row4_col9\" class=\"data row4 col9\" >-0.01</td>\n",
              "                        <td id=\"T_60411e04_638c_11eb_a350_0242ac1c0002row4_col10\" class=\"data row4 col10\" >-0.00</td>\n",
              "                        <td id=\"T_60411e04_638c_11eb_a350_0242ac1c0002row4_col11\" class=\"data row4 col11\" >0.12</td>\n",
              "            </tr>\n",
              "            <tr>\n",
              "                        <th id=\"T_60411e04_638c_11eb_a350_0242ac1c0002level0_row5\" class=\"row_heading level0 row5\" >CoapplicantIncome</th>\n",
              "                        <td id=\"T_60411e04_638c_11eb_a350_0242ac1c0002row5_col0\" class=\"data row5 col0\" >-0.08</td>\n",
              "                        <td id=\"T_60411e04_638c_11eb_a350_0242ac1c0002row5_col1\" class=\"data row5 col1\" >-0.08</td>\n",
              "                        <td id=\"T_60411e04_638c_11eb_a350_0242ac1c0002row5_col2\" class=\"data row5 col2\" >-0.06</td>\n",
              "                        <td id=\"T_60411e04_638c_11eb_a350_0242ac1c0002row5_col3\" class=\"data row5 col3\" >0.02</td>\n",
              "                        <td id=\"T_60411e04_638c_11eb_a350_0242ac1c0002row5_col4\" class=\"data row5 col4\" >-0.12</td>\n",
              "                        <td id=\"T_60411e04_638c_11eb_a350_0242ac1c0002row5_col5\" class=\"data row5 col5\" >1.00</td>\n",
              "                        <td id=\"T_60411e04_638c_11eb_a350_0242ac1c0002row5_col6\" class=\"data row5 col6\" >0.19</td>\n",
              "                        <td id=\"T_60411e04_638c_11eb_a350_0242ac1c0002row5_col7\" class=\"data row5 col7\" >-0.06</td>\n",
              "                        <td id=\"T_60411e04_638c_11eb_a350_0242ac1c0002row5_col8\" class=\"data row5 col8\" >0.01</td>\n",
              "                        <td id=\"T_60411e04_638c_11eb_a350_0242ac1c0002row5_col9\" class=\"data row5 col9\" >0.01</td>\n",
              "                        <td id=\"T_60411e04_638c_11eb_a350_0242ac1c0002row5_col10\" class=\"data row5 col10\" >-0.06</td>\n",
              "                        <td id=\"T_60411e04_638c_11eb_a350_0242ac1c0002row5_col11\" class=\"data row5 col11\" >0.03</td>\n",
              "            </tr>\n",
              "            <tr>\n",
              "                        <th id=\"T_60411e04_638c_11eb_a350_0242ac1c0002level0_row6\" class=\"row_heading level0 row6\" >LoanAmount</th>\n",
              "                        <td id=\"T_60411e04_638c_11eb_a350_0242ac1c0002row6_col0\" class=\"data row6 col0\" >-0.11</td>\n",
              "                        <td id=\"T_60411e04_638c_11eb_a350_0242ac1c0002row6_col1\" class=\"data row6 col1\" >-0.15</td>\n",
              "                        <td id=\"T_60411e04_638c_11eb_a350_0242ac1c0002row6_col2\" class=\"data row6 col2\" >-0.17</td>\n",
              "                        <td id=\"T_60411e04_638c_11eb_a350_0242ac1c0002row6_col3\" class=\"data row6 col3\" >-0.11</td>\n",
              "                        <td id=\"T_60411e04_638c_11eb_a350_0242ac1c0002row6_col4\" class=\"data row6 col4\" >0.56</td>\n",
              "                        <td id=\"T_60411e04_638c_11eb_a350_0242ac1c0002row6_col5\" class=\"data row6 col5\" >0.19</td>\n",
              "                        <td id=\"T_60411e04_638c_11eb_a350_0242ac1c0002row6_col6\" class=\"data row6 col6\" >1.00</td>\n",
              "                        <td id=\"T_60411e04_638c_11eb_a350_0242ac1c0002row6_col7\" class=\"data row6 col7\" >0.04</td>\n",
              "                        <td id=\"T_60411e04_638c_11eb_a350_0242ac1c0002row6_col8\" class=\"data row6 col8\" >-0.00</td>\n",
              "                        <td id=\"T_60411e04_638c_11eb_a350_0242ac1c0002row6_col9\" class=\"data row6 col9\" >-0.05</td>\n",
              "                        <td id=\"T_60411e04_638c_11eb_a350_0242ac1c0002row6_col10\" class=\"data row6 col10\" >-0.03</td>\n",
              "                        <td id=\"T_60411e04_638c_11eb_a350_0242ac1c0002row6_col11\" class=\"data row6 col11\" >0.16</td>\n",
              "            </tr>\n",
              "            <tr>\n",
              "                        <th id=\"T_60411e04_638c_11eb_a350_0242ac1c0002level0_row7\" class=\"row_heading level0 row7\" >Loan_Amount_Term</th>\n",
              "                        <td id=\"T_60411e04_638c_11eb_a350_0242ac1c0002row7_col0\" class=\"data row7 col0\" >0.07</td>\n",
              "                        <td id=\"T_60411e04_638c_11eb_a350_0242ac1c0002row7_col1\" class=\"data row7 col1\" >0.10</td>\n",
              "                        <td id=\"T_60411e04_638c_11eb_a350_0242ac1c0002row7_col2\" class=\"data row7 col2\" >-0.07</td>\n",
              "                        <td id=\"T_60411e04_638c_11eb_a350_0242ac1c0002row7_col3\" class=\"data row7 col3\" >0.03</td>\n",
              "                        <td id=\"T_60411e04_638c_11eb_a350_0242ac1c0002row7_col4\" class=\"data row7 col4\" >-0.05</td>\n",
              "                        <td id=\"T_60411e04_638c_11eb_a350_0242ac1c0002row7_col5\" class=\"data row7 col5\" >-0.06</td>\n",
              "                        <td id=\"T_60411e04_638c_11eb_a350_0242ac1c0002row7_col6\" class=\"data row7 col6\" >0.04</td>\n",
              "                        <td id=\"T_60411e04_638c_11eb_a350_0242ac1c0002row7_col7\" class=\"data row7 col7\" >1.00</td>\n",
              "                        <td id=\"T_60411e04_638c_11eb_a350_0242ac1c0002row7_col8\" class=\"data row7 col8\" >-0.00</td>\n",
              "                        <td id=\"T_60411e04_638c_11eb_a350_0242ac1c0002row7_col9\" class=\"data row7 col9\" >-0.08</td>\n",
              "                        <td id=\"T_60411e04_638c_11eb_a350_0242ac1c0002row7_col10\" class=\"data row7 col10\" >-0.02</td>\n",
              "                        <td id=\"T_60411e04_638c_11eb_a350_0242ac1c0002row7_col11\" class=\"data row7 col11\" >-0.10</td>\n",
              "            </tr>\n",
              "            <tr>\n",
              "                        <th id=\"T_60411e04_638c_11eb_a350_0242ac1c0002level0_row8\" class=\"row_heading level0 row8\" >Credit_History</th>\n",
              "                        <td id=\"T_60411e04_638c_11eb_a350_0242ac1c0002row8_col0\" class=\"data row8 col0\" >-0.01</td>\n",
              "                        <td id=\"T_60411e04_638c_11eb_a350_0242ac1c0002row8_col1\" class=\"data row8 col1\" >-0.01</td>\n",
              "                        <td id=\"T_60411e04_638c_11eb_a350_0242ac1c0002row8_col2\" class=\"data row8 col2\" >-0.07</td>\n",
              "                        <td id=\"T_60411e04_638c_11eb_a350_0242ac1c0002row8_col3\" class=\"data row8 col3\" >0.00</td>\n",
              "                        <td id=\"T_60411e04_638c_11eb_a350_0242ac1c0002row8_col4\" class=\"data row8 col4\" >-0.02</td>\n",
              "                        <td id=\"T_60411e04_638c_11eb_a350_0242ac1c0002row8_col5\" class=\"data row8 col5\" >0.01</td>\n",
              "                        <td id=\"T_60411e04_638c_11eb_a350_0242ac1c0002row8_col6\" class=\"data row8 col6\" >-0.00</td>\n",
              "                        <td id=\"T_60411e04_638c_11eb_a350_0242ac1c0002row8_col7\" class=\"data row8 col7\" >-0.00</td>\n",
              "                        <td id=\"T_60411e04_638c_11eb_a350_0242ac1c0002row8_col8\" class=\"data row8 col8\" >1.00</td>\n",
              "                        <td id=\"T_60411e04_638c_11eb_a350_0242ac1c0002row8_col9\" class=\"data row8 col9\" >0.00</td>\n",
              "                        <td id=\"T_60411e04_638c_11eb_a350_0242ac1c0002row8_col10\" class=\"data row8 col10\" >0.54</td>\n",
              "                        <td id=\"T_60411e04_638c_11eb_a350_0242ac1c0002row8_col11\" class=\"data row8 col11\" >-0.04</td>\n",
              "            </tr>\n",
              "            <tr>\n",
              "                        <th id=\"T_60411e04_638c_11eb_a350_0242ac1c0002level0_row9\" class=\"row_heading level0 row9\" >Property_Area</th>\n",
              "                        <td id=\"T_60411e04_638c_11eb_a350_0242ac1c0002row9_col0\" class=\"data row9 col0\" >0.03</td>\n",
              "                        <td id=\"T_60411e04_638c_11eb_a350_0242ac1c0002row9_col1\" class=\"data row9 col1\" >-0.00</td>\n",
              "                        <td id=\"T_60411e04_638c_11eb_a350_0242ac1c0002row9_col2\" class=\"data row9 col2\" >-0.07</td>\n",
              "                        <td id=\"T_60411e04_638c_11eb_a350_0242ac1c0002row9_col3\" class=\"data row9 col3\" >0.03</td>\n",
              "                        <td id=\"T_60411e04_638c_11eb_a350_0242ac1c0002row9_col4\" class=\"data row9 col4\" >-0.01</td>\n",
              "                        <td id=\"T_60411e04_638c_11eb_a350_0242ac1c0002row9_col5\" class=\"data row9 col5\" >0.01</td>\n",
              "                        <td id=\"T_60411e04_638c_11eb_a350_0242ac1c0002row9_col6\" class=\"data row9 col6\" >-0.05</td>\n",
              "                        <td id=\"T_60411e04_638c_11eb_a350_0242ac1c0002row9_col7\" class=\"data row9 col7\" >-0.08</td>\n",
              "                        <td id=\"T_60411e04_638c_11eb_a350_0242ac1c0002row9_col8\" class=\"data row9 col8\" >0.00</td>\n",
              "                        <td id=\"T_60411e04_638c_11eb_a350_0242ac1c0002row9_col9\" class=\"data row9 col9\" >1.00</td>\n",
              "                        <td id=\"T_60411e04_638c_11eb_a350_0242ac1c0002row9_col10\" class=\"data row9 col10\" >0.03</td>\n",
              "                        <td id=\"T_60411e04_638c_11eb_a350_0242ac1c0002row9_col11\" class=\"data row9 col11\" >-0.00</td>\n",
              "            </tr>\n",
              "            <tr>\n",
              "                        <th id=\"T_60411e04_638c_11eb_a350_0242ac1c0002level0_row10\" class=\"row_heading level0 row10\" >Loan_Status</th>\n",
              "                        <td id=\"T_60411e04_638c_11eb_a350_0242ac1c0002row10_col0\" class=\"data row10 col0\" >-0.02</td>\n",
              "                        <td id=\"T_60411e04_638c_11eb_a350_0242ac1c0002row10_col1\" class=\"data row10 col1\" >-0.09</td>\n",
              "                        <td id=\"T_60411e04_638c_11eb_a350_0242ac1c0002row10_col2\" class=\"data row10 col2\" >-0.09</td>\n",
              "                        <td id=\"T_60411e04_638c_11eb_a350_0242ac1c0002row10_col3\" class=\"data row10 col3\" >0.00</td>\n",
              "                        <td id=\"T_60411e04_638c_11eb_a350_0242ac1c0002row10_col4\" class=\"data row10 col4\" >-0.00</td>\n",
              "                        <td id=\"T_60411e04_638c_11eb_a350_0242ac1c0002row10_col5\" class=\"data row10 col5\" >-0.06</td>\n",
              "                        <td id=\"T_60411e04_638c_11eb_a350_0242ac1c0002row10_col6\" class=\"data row10 col6\" >-0.03</td>\n",
              "                        <td id=\"T_60411e04_638c_11eb_a350_0242ac1c0002row10_col7\" class=\"data row10 col7\" >-0.02</td>\n",
              "                        <td id=\"T_60411e04_638c_11eb_a350_0242ac1c0002row10_col8\" class=\"data row10 col8\" >0.54</td>\n",
              "                        <td id=\"T_60411e04_638c_11eb_a350_0242ac1c0002row10_col9\" class=\"data row10 col9\" >0.03</td>\n",
              "                        <td id=\"T_60411e04_638c_11eb_a350_0242ac1c0002row10_col10\" class=\"data row10 col10\" >1.00</td>\n",
              "                        <td id=\"T_60411e04_638c_11eb_a350_0242ac1c0002row10_col11\" class=\"data row10 col11\" >0.01</td>\n",
              "            </tr>\n",
              "            <tr>\n",
              "                        <th id=\"T_60411e04_638c_11eb_a350_0242ac1c0002level0_row11\" class=\"row_heading level0 row11\" >Dependents</th>\n",
              "                        <td id=\"T_60411e04_638c_11eb_a350_0242ac1c0002row11_col0\" class=\"data row11 col0\" >-0.17</td>\n",
              "                        <td id=\"T_60411e04_638c_11eb_a350_0242ac1c0002row11_col1\" class=\"data row11 col1\" >-0.33</td>\n",
              "                        <td id=\"T_60411e04_638c_11eb_a350_0242ac1c0002row11_col2\" class=\"data row11 col2\" >0.06</td>\n",
              "                        <td id=\"T_60411e04_638c_11eb_a350_0242ac1c0002row11_col3\" class=\"data row11 col3\" >-0.06</td>\n",
              "                        <td id=\"T_60411e04_638c_11eb_a350_0242ac1c0002row11_col4\" class=\"data row11 col4\" >0.12</td>\n",
              "                        <td id=\"T_60411e04_638c_11eb_a350_0242ac1c0002row11_col5\" class=\"data row11 col5\" >0.03</td>\n",
              "                        <td id=\"T_60411e04_638c_11eb_a350_0242ac1c0002row11_col6\" class=\"data row11 col6\" >0.16</td>\n",
              "                        <td id=\"T_60411e04_638c_11eb_a350_0242ac1c0002row11_col7\" class=\"data row11 col7\" >-0.10</td>\n",
              "                        <td id=\"T_60411e04_638c_11eb_a350_0242ac1c0002row11_col8\" class=\"data row11 col8\" >-0.04</td>\n",
              "                        <td id=\"T_60411e04_638c_11eb_a350_0242ac1c0002row11_col9\" class=\"data row11 col9\" >-0.00</td>\n",
              "                        <td id=\"T_60411e04_638c_11eb_a350_0242ac1c0002row11_col10\" class=\"data row11 col10\" >0.01</td>\n",
              "                        <td id=\"T_60411e04_638c_11eb_a350_0242ac1c0002row11_col11\" class=\"data row11 col11\" >1.00</td>\n",
              "            </tr>\n",
              "    </tbody></table>"
            ],
            "text/plain": [
              "<pandas.io.formats.style.Styler at 0x7efe09f4d400>"
            ]
          },
          "metadata": {
            "tags": []
          },
          "execution_count": 11
        }
      ]
    },
    {
      "cell_type": "markdown",
      "metadata": {
        "id": "BV6Tsq7h8ced"
      },
      "source": [
        "we can see that the Loan Status is highly correlated to the Credit History column. This means that the target value is highly correlated to this column."
      ]
    },
    {
      "cell_type": "markdown",
      "metadata": {
        "id": "Bglyk3QG8_Px"
      },
      "source": [
        "**Training of Models**"
      ]
    },
    {
      "cell_type": "markdown",
      "metadata": {
        "id": "PlpCtb1u9EgP"
      },
      "source": [
        "Models used:\r\n",
        "\r\n",
        "\r\n",
        "*   Decision Trees\r\n",
        "*   Random Forest\r\n",
        "*   XGBoost\r\n",
        "*   Logistic Regression"
      ]
    },
    {
      "cell_type": "code",
      "metadata": {
        "id": "fOAD8C2j8242"
      },
      "source": [
        "y = train_df['Loan_Status']\r\n",
        "X = train_df.drop('Loan_Status', axis=1)\r\n",
        "\r\n",
        "X = pd.get_dummies(X)\r\n",
        "X_train, X_test, y_train, y_test = train_test_split(X, y, test_size = 0.3, random_state = 0)"
      ],
      "execution_count": 8,
      "outputs": []
    },
    {
      "cell_type": "code",
      "metadata": {
        "colab": {
          "base_uri": "https://localhost:8080/",
          "height": 179
        },
        "id": "PtEfvVgXd9P8",
        "outputId": "e283ce74-2831-4ef8-d9ea-be3a5b16523f"
      },
      "source": [
        "X_train.head(3)"
      ],
      "execution_count": 12,
      "outputs": [
        {
          "output_type": "execute_result",
          "data": {
            "text/html": [
              "<div>\n",
              "<style scoped>\n",
              "    .dataframe tbody tr th:only-of-type {\n",
              "        vertical-align: middle;\n",
              "    }\n",
              "\n",
              "    .dataframe tbody tr th {\n",
              "        vertical-align: top;\n",
              "    }\n",
              "\n",
              "    .dataframe thead th {\n",
              "        text-align: right;\n",
              "    }\n",
              "</style>\n",
              "<table border=\"1\" class=\"dataframe\">\n",
              "  <thead>\n",
              "    <tr style=\"text-align: right;\">\n",
              "      <th></th>\n",
              "      <th>ApplicantIncome</th>\n",
              "      <th>CoapplicantIncome</th>\n",
              "      <th>LoanAmount</th>\n",
              "      <th>Loan_Amount_Term</th>\n",
              "      <th>Credit_History</th>\n",
              "      <th>Gender_Female</th>\n",
              "      <th>Gender_Male</th>\n",
              "      <th>Married_No</th>\n",
              "      <th>Married_Yes</th>\n",
              "      <th>Dependents_3</th>\n",
              "      <th>Dependents_0</th>\n",
              "      <th>Dependents_1</th>\n",
              "      <th>Dependents_2</th>\n",
              "      <th>Education_Graduate</th>\n",
              "      <th>Education_Not Graduate</th>\n",
              "      <th>Self_Employed_No</th>\n",
              "      <th>Self_Employed_Yes</th>\n",
              "      <th>Property_Area_Rural</th>\n",
              "      <th>Property_Area_Semiurban</th>\n",
              "      <th>Property_Area_Urban</th>\n",
              "    </tr>\n",
              "  </thead>\n",
              "  <tbody>\n",
              "    <tr>\n",
              "      <th>351</th>\n",
              "      <td>8750</td>\n",
              "      <td>4167.0</td>\n",
              "      <td>308.0</td>\n",
              "      <td>360.0</td>\n",
              "      <td>1.0</td>\n",
              "      <td>0</td>\n",
              "      <td>1</td>\n",
              "      <td>1</td>\n",
              "      <td>0</td>\n",
              "      <td>0</td>\n",
              "      <td>1</td>\n",
              "      <td>0</td>\n",
              "      <td>0</td>\n",
              "      <td>1</td>\n",
              "      <td>0</td>\n",
              "      <td>1</td>\n",
              "      <td>0</td>\n",
              "      <td>1</td>\n",
              "      <td>0</td>\n",
              "      <td>0</td>\n",
              "    </tr>\n",
              "    <tr>\n",
              "      <th>593</th>\n",
              "      <td>3859</td>\n",
              "      <td>3300.0</td>\n",
              "      <td>142.0</td>\n",
              "      <td>180.0</td>\n",
              "      <td>1.0</td>\n",
              "      <td>0</td>\n",
              "      <td>1</td>\n",
              "      <td>0</td>\n",
              "      <td>1</td>\n",
              "      <td>0</td>\n",
              "      <td>1</td>\n",
              "      <td>0</td>\n",
              "      <td>0</td>\n",
              "      <td>1</td>\n",
              "      <td>0</td>\n",
              "      <td>1</td>\n",
              "      <td>0</td>\n",
              "      <td>1</td>\n",
              "      <td>0</td>\n",
              "      <td>0</td>\n",
              "    </tr>\n",
              "    <tr>\n",
              "      <th>320</th>\n",
              "      <td>2400</td>\n",
              "      <td>2167.0</td>\n",
              "      <td>115.0</td>\n",
              "      <td>360.0</td>\n",
              "      <td>1.0</td>\n",
              "      <td>0</td>\n",
              "      <td>1</td>\n",
              "      <td>0</td>\n",
              "      <td>1</td>\n",
              "      <td>0</td>\n",
              "      <td>1</td>\n",
              "      <td>0</td>\n",
              "      <td>0</td>\n",
              "      <td>1</td>\n",
              "      <td>0</td>\n",
              "      <td>1</td>\n",
              "      <td>0</td>\n",
              "      <td>0</td>\n",
              "      <td>1</td>\n",
              "      <td>0</td>\n",
              "    </tr>\n",
              "  </tbody>\n",
              "</table>\n",
              "</div>"
            ],
            "text/plain": [
              "     ApplicantIncome  ...  Property_Area_Urban\n",
              "351             8750  ...                    0\n",
              "593             3859  ...                    0\n",
              "320             2400  ...                    0\n",
              "\n",
              "[3 rows x 20 columns]"
            ]
          },
          "metadata": {
            "tags": []
          },
          "execution_count": 12
        }
      ]
    },
    {
      "cell_type": "markdown",
      "metadata": {
        "id": "bCEHuAxm-0rq"
      },
      "source": [
        "**Decision Tree Model**"
      ]
    },
    {
      "cell_type": "code",
      "metadata": {
        "colab": {
          "base_uri": "https://localhost:8080/"
        },
        "id": "ZO2Q-Yg5FZ2-",
        "outputId": "89677cae-a485-4656-af52-45d805115fb5"
      },
      "source": [
        "# Confusion Matrix\r\n",
        "from sklearn.model_selection import cross_val_predict\r\n",
        "from sklearn.metrics import confusion_matrix\r\n",
        "\r\n",
        "tree = DecisionTreeClassifier(max_depth=1)\r\n",
        "\r\n",
        "y_train_preds = cross_val_predict(tree, X_train, y_train, cv=3)\r\n",
        "confusion_matrix(y_train, y_train_preds)"
      ],
      "execution_count": 10,
      "outputs": [
        {
          "output_type": "execute_result",
          "data": {
            "text/plain": [
              "array([[ 61,  80],\n",
              "       [  5, 283]])"
            ]
          },
          "metadata": {
            "tags": []
          },
          "execution_count": 10
        }
      ]
    },
    {
      "cell_type": "code",
      "metadata": {
        "colab": {
          "base_uri": "https://localhost:8080/"
        },
        "id": "dAXqpK35C9BZ",
        "outputId": "c1513bd9-1e7e-4d81-fcb0-a4b3f987a2ac"
      },
      "source": [
        "# Cross Validation Scoring\r\n",
        "from sklearn.model_selection import cross_val_score\r\n",
        "\r\n",
        "scores = cross_val_score(tree, X_train, y_train, cv = 3, scoring='accuracy')\r\n",
        "\r\n",
        "print(f'{scores}\\nAverage Scores: {round(sum(scores)/len(scores)*100, 2)}')"
      ],
      "execution_count": 13,
      "outputs": [
        {
          "output_type": "stream",
          "text": [
            "[0.81818182 0.78321678 0.8041958 ]\n",
            "Average Scores: 80.19\n"
          ],
          "name": "stdout"
        }
      ]
    },
    {
      "cell_type": "code",
      "metadata": {
        "colab": {
          "base_uri": "https://localhost:8080/",
          "height": 289
        },
        "id": "4B23AhRMLIqx",
        "outputId": "eb53164a-0eaf-4b48-b71d-a16b7fa14a98"
      },
      "source": [
        "# Plot of Precision vs Recall\r\n",
        "from sklearn.metrics import precision_recall_curve\r\n",
        "\r\n",
        "precisions, recalls, thresholds = precision_recall_curve(y_train_preds, y_train)\r\n",
        "\r\n",
        "def plot_precision_vs_recall(precisions, recalls, thresholds):\r\n",
        "    plt.plot(thresholds, precisions[:-1], 'b--', label='Precision')\r\n",
        "    plt.plot(thresholds, recalls[:-1], 'g-', label='Recall')\r\n",
        "    plt.xlabel('Thresholds')\r\n",
        "    plt.legend(loc = 'upper left')\r\n",
        "    plt.ylim([0,1])\r\n",
        "\r\n",
        "plot_precision_vs_recall(precisions, recalls, thresholds)\r\n",
        "plt.show()"
      ],
      "execution_count": 28,
      "outputs": [
        {
          "output_type": "display_data",
          "data": {
            "image/png": "[encoded data removed]",
            "text/plain": [
              "<Figure size 432x288 with 1 Axes>"
            ]
          },
          "metadata": {
            "tags": [],
            "needs_background": "light"
          }
        }
      ]
    },
    {
      "cell_type": "code",
      "metadata": {
        "colab": {
          "base_uri": "https://localhost:8080/"
        },
        "id": "HCeZXEyl-0AF",
        "outputId": "6031e2f0-5917-46e3-f70c-dc3d2b1c3c4b"
      },
      "source": [
        "tree.fit(X_train, y_train)\r\n",
        "\r\n",
        "y_predictions = tree.predict(X_test)\r\n",
        "\r\n",
        "# Prediction Summary\r\n",
        "print(classification_report(y_test, y_predictions))\r\n",
        "\r\n",
        "#Accuracy Score\r\n",
        "tree_score = accuracy_score(y_test, y_predictions)\r\n",
        "\r\n",
        "print(f\"{round(tree_score*100, 2)}% Accurate\")"
      ],
      "execution_count": 14,
      "outputs": [
        {
          "output_type": "stream",
          "text": [
            "              precision    recall  f1-score   support\n",
            "\n",
            "           N       0.91      0.41      0.57        51\n",
            "           Y       0.81      0.99      0.89       134\n",
            "\n",
            "    accuracy                           0.83       185\n",
            "   macro avg       0.86      0.70      0.73       185\n",
            "weighted avg       0.84      0.83      0.80       185\n",
            "\n",
            "82.7% Accurate\n"
          ],
          "name": "stdout"
        }
      ]
    },
    {
      "cell_type": "markdown",
      "metadata": {
        "id": "o3X30a60J4UE"
      },
      "source": [
        "**Random Forest Classifier**"
      ]
    },
    {
      "cell_type": "code",
      "metadata": {
        "colab": {
          "base_uri": "https://localhost:8080/"
        },
        "id": "rfz3I4EbJ9MJ",
        "outputId": "c7d56bb7-0e7e-4319-8534-74964f15b7c3"
      },
      "source": [
        "from sklearn.metrics import plot_confusion_matrix\r\n",
        "random_forest = RandomForestClassifier(n_estimators=500,max_leaf_nodes=16,n_jobs=-1)\r\n",
        "random_forest.fit(X_train, y_train)\r\n",
        "\r\n",
        "y_forest_preds = cross_val_predict(random_forest, X_train, y_train, cv = 3)\r\n",
        "\r\n",
        "confusion_matrix(y_train, y_forest_preds)"
      ],
      "execution_count": 15,
      "outputs": [
        {
          "output_type": "execute_result",
          "data": {
            "text/plain": [
              "array([[ 61,  80],\n",
              "       [  6, 282]])"
            ]
          },
          "metadata": {
            "tags": []
          },
          "execution_count": 15
        }
      ]
    },
    {
      "cell_type": "code",
      "metadata": {
        "colab": {
          "base_uri": "https://localhost:8080/"
        },
        "id": "eBRjEhCSSKbD",
        "outputId": "39a89918-c8aa-43b3-8773-57f68c8d14f2"
      },
      "source": [
        "y_forest_pred_true = random_forest.predict(X_test)\r\n",
        "\r\n",
        "print(classification_report(y_test, y_forest_pred_true))\r\n",
        "print(f\"{round(accuracy_score(y_test, y_forest_pred_true)*100,2)}%\")"
      ],
      "execution_count": 16,
      "outputs": [
        {
          "output_type": "stream",
          "text": [
            "              precision    recall  f1-score   support\n",
            "\n",
            "           N       0.88      0.41      0.56        51\n",
            "           Y       0.81      0.98      0.89       134\n",
            "\n",
            "    accuracy                           0.82       185\n",
            "   macro avg       0.84      0.69      0.72       185\n",
            "weighted avg       0.83      0.82      0.80       185\n",
            "\n",
            "82.16%\n"
          ],
          "name": "stdout"
        }
      ]
    },
    {
      "cell_type": "markdown",
      "metadata": {
        "id": "krVDrneZXLAR"
      },
      "source": [
        "**Logistic Regression Classifier**"
      ]
    },
    {
      "cell_type": "code",
      "metadata": {
        "colab": {
          "base_uri": "https://localhost:8080/"
        },
        "id": "fC4Ah1W4XQIO",
        "outputId": "f0b7975c-2404-44a8-bdfc-abc443a4470c"
      },
      "source": [
        "log_regressor = LogisticRegression()\r\n",
        "\r\n",
        "log_regressor.fit(X_train, y_train)\r\n",
        "\r\n",
        "y_log_reg_preds = log_regressor.predict(X_test)\r\n",
        "\r\n",
        "print(classification_report(y_test, y_log_reg_preds))\r\n",
        "\r\n",
        "print(f'{round(accuracy_score(y_test, y_log_reg_preds)*100,2)}%')"
      ],
      "execution_count": 17,
      "outputs": [
        {
          "output_type": "stream",
          "text": [
            "              precision    recall  f1-score   support\n",
            "\n",
            "           N       0.92      0.43      0.59        51\n",
            "           Y       0.82      0.99      0.89       134\n",
            "\n",
            "    accuracy                           0.83       185\n",
            "   macro avg       0.87      0.71      0.74       185\n",
            "weighted avg       0.85      0.83      0.81       185\n",
            "\n",
            "83.24%\n"
          ],
          "name": "stdout"
        }
      ]
    }
  ]
}